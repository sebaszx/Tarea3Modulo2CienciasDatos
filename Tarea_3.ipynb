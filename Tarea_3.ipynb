{
  "cells": [
    {
      "cell_type": "markdown",
      "metadata": {
        "id": "BLiAhjTywohM"
      },
      "source": [
        "<img src='https://raw.githubusercontent.com/levc17/ML-tarea3-regression/main/landscape_banner2.png'>"
      ]
    },
    {
      "cell_type": "markdown",
      "metadata": {
        "id": "laeHGAcshVTC"
      },
      "source": [
        "#Métricas para regresión y clasificación\n",
        "\n",
        "Regresión y clasificación son los dos principales grupos en los que se pueden dividir los procedimientos de aprendizaje automático supervisado.\n",
        "\n",
        "En las tareas de clasificación, se predicen targets de origen categórico. Interesa la predicción de la clase (o clases).\n",
        "\n",
        "En las tareas de regresión, se predicen targets que corresponden a variables numéricas. Interesa la predicción del valor.\n",
        "\n",
        "A continuación se describirán y analizará la operación de varias métricas usadas para evaluar problemas de regresión y clasificación (binaria, multiclase y multilabel). Se entrenarán modelos de *Random Forest*, o Bosques aleatorios, con diferentes conjuntos de datos para calcular las distintas métricas asociadas a cada problema.\n",
        "\n",
        "La lista de métricas y sus respectivas ecuaciones están basadas principalmente en la bliblioteca [*scikit-learn*](https://https://scikit-learn.org/stable/modules/model_evaluation.html#):\n",
        "\n",
        "Scikit-learn: Machine Learning in Python, Pedregosa et al., JMLR 12, pp. 2825-2830, 2011."
      ]
    },
    {
      "cell_type": "markdown",
      "metadata": {
        "id": "XozRLfF1ha9j"
      },
      "source": [
        "#Regresión"
      ]
    },
    {
      "cell_type": "markdown",
      "metadata": {
        "id": "xkvvheuahkUR"
      },
      "source": [
        "Para la parte de regresión, se seleccionó el conjunto de datos '[Miami Housing Dataset](https://www.kaggle.com/deepcontractor/miami-housing-dataset?select=miami-housing.csv)' de Kaggle (CC0).\n",
        "\n",
        "El mismo contiene información de 13,932 propiedades familiares vendidas en Miami durante 2016. Cuenta con 17 columnas, incluyendo el precio de venta 'SALE_PRC', la cual será el target de este procedimiento.\n",
        "\n",
        "Las columnas del conjunto de datos y su respectivo contenido son:\n",
        "\n",
        "LATITUDE: latitud\n",
        "\n",
        "LONGITUDE: longitud\n",
        "\n",
        "PARCELNO: identificador único para cada propiedad\n",
        "\n",
        "SALE_PRC: precio de venta (USD)\n",
        "\n",
        "LND_SQFOOT: área del terreno (pies cuadrados)\n",
        "\n",
        "TOTLVGAREA: área construida (pies cuadrados)\n",
        "\n",
        "SPECFEATVAL: valor de amenidades (p. ej., piscinas) (USD)\n",
        "\n",
        "RAIL_DIST: distancia a la línea férrea más cercana (un indicador de ruido) (pies)\n",
        "\n",
        "OCEAN_DIST: distancia al océano (pies)\n",
        "\n",
        "WATER_DIST: distancia al cuerpo de agua más cercano (pies)\n",
        "\n",
        "CNTR_DIST: distancia al distrito comercial central de Miami (pies)\n",
        "\n",
        "SUBCNTR_DI: distancia al centro secundario más cercano (pies)\n",
        "\n",
        "HWY_DIST: distancia a la autopista más cercana (un indicador de ruido) (pies)\n",
        "\n",
        "age: edad de la estructura\n",
        "\n",
        "avno60plus: variable 'dummy' para cuando el ruido de aeroplanos excede un nivel aceptable\n",
        "\n",
        "month_sold: mes de venta en 2016 (1 = ene)\n",
        "\n",
        "structure_quality: calidad de la estructura"
      ]
    },
    {
      "cell_type": "code",
      "execution_count": 72,
      "metadata": {
        "id": "UD4UV7fdhite"
      },
      "outputs": [],
      "source": [
        "##############################################\n",
        "import numpy as np\n",
        "import pandas as pd\n",
        "import matplotlib.pyplot as plt\n",
        "\n",
        "from sklearn.model_selection import train_test_split\n",
        "from sklearn.ensemble import RandomForestRegressor\n",
        "##############################################"
      ]
    },
    {
      "cell_type": "code",
      "execution_count": 73,
      "metadata": {
        "id": "sMi6CYMShi1J"
      },
      "outputs": [],
      "source": [
        "#Se carga el conjunto de datos\n",
        "miami = pd.read_csv(\"https://raw.githubusercontent.com/levc17/ML-tarea3-regression/main/miami-housing.csv\")"
      ]
    },
    {
      "cell_type": "code",
      "execution_count": 74,
      "metadata": {
        "colab": {
          "base_uri": "https://localhost:8080/",
          "height": 582
        },
        "id": "MNs8FP5phi7Y",
        "outputId": "76b971c9-3687-4bf7-9f77-f6d267333c47"
      },
      "outputs": [
        {
          "output_type": "execute_result",
          "data": {
            "text/plain": [
              "                     count          mean           std           min  \\\n",
              "LATITUDE           13932.0  2.572881e+01  1.406333e-01  2.543433e+01   \n",
              "LONGITUDE          13932.0 -8.032748e+01  8.919907e-02 -8.054217e+01   \n",
              "PARCELNO           13932.0  2.356496e+12  1.199290e+12  1.020008e+11   \n",
              "SALE_PRC           13932.0  3.999419e+05  3.172147e+05  7.200000e+04   \n",
              "LND_SQFOOT         13932.0  8.620880e+03  6.070089e+03  1.248000e+03   \n",
              "TOT_LVG_AREA       13932.0  2.058045e+03  8.135385e+02  8.540000e+02   \n",
              "SPEC_FEAT_VAL      13932.0  9.562493e+03  1.389097e+04  0.000000e+00   \n",
              "RAIL_DIST          13932.0  8.348549e+03  6.178027e+03  1.050000e+01   \n",
              "OCEAN_DIST         13932.0  3.169099e+04  1.759508e+04  2.361000e+02   \n",
              "WATER_DIST         13932.0  1.196029e+04  1.193299e+04  0.000000e+00   \n",
              "CNTR_DIST          13932.0  6.849033e+04  3.200847e+04  3.825600e+03   \n",
              "SUBCNTR_DI         13932.0  4.111505e+04  2.216183e+04  1.462800e+03   \n",
              "HWY_DIST           13932.0  7.723771e+03  6.068936e+03  9.020000e+01   \n",
              "age                13932.0  3.066925e+01  2.115307e+01  0.000000e+00   \n",
              "avno60plus         13932.0  1.492966e-02  1.212758e-01  0.000000e+00   \n",
              "month_sold         13932.0  6.655828e+00  3.301523e+00  1.000000e+00   \n",
              "structure_quality  13932.0  3.513997e+00  1.097444e+00  1.000000e+00   \n",
              "\n",
              "                            25%           50%           75%           max  \n",
              "LATITUDE           2.562006e+01  2.573181e+01  2.585227e+01  2.597438e+01  \n",
              "LONGITUDE         -8.040328e+01 -8.033891e+01 -8.025802e+01 -8.011975e+01  \n",
              "PARCELNO           1.079160e+12  3.040300e+12  3.060170e+12  3.660170e+12  \n",
              "SALE_PRC           2.350000e+05  3.100000e+05  4.280000e+05  2.650000e+06  \n",
              "LND_SQFOOT         5.400000e+03  7.500000e+03  9.126250e+03  5.706400e+04  \n",
              "TOT_LVG_AREA       1.470000e+03  1.877500e+03  2.471000e+03  6.287000e+03  \n",
              "SPEC_FEAT_VAL      8.100000e+02  2.765500e+03  1.235225e+04  1.750200e+05  \n",
              "RAIL_DIST          3.299450e+03  7.106300e+03  1.210260e+04  2.962150e+04  \n",
              "OCEAN_DIST         1.807935e+04  2.854175e+04  4.431065e+04  7.574490e+04  \n",
              "WATER_DIST         2.675850e+03  6.922600e+03  1.920000e+04  5.039980e+04  \n",
              "CNTR_DIST          4.282310e+04  6.585240e+04  8.935832e+04  1.599765e+05  \n",
              "SUBCNTR_DI         2.399625e+04  4.110990e+04  5.394938e+04  1.105538e+05  \n",
              "HWY_DIST           2.998125e+03  6.159750e+03  1.085420e+04  4.816730e+04  \n",
              "age                1.400000e+01  2.600000e+01  4.600000e+01  9.600000e+01  \n",
              "avno60plus         0.000000e+00  0.000000e+00  0.000000e+00  1.000000e+00  \n",
              "month_sold         4.000000e+00  7.000000e+00  9.000000e+00  1.200000e+01  \n",
              "structure_quality  2.000000e+00  4.000000e+00  4.000000e+00  5.000000e+00  "
            ],
            "text/html": [
              "\n",
              "  <div id=\"df-632787a9-1f87-4767-9002-2fa625d9a66b\">\n",
              "    <div class=\"colab-df-container\">\n",
              "      <div>\n",
              "<style scoped>\n",
              "    .dataframe tbody tr th:only-of-type {\n",
              "        vertical-align: middle;\n",
              "    }\n",
              "\n",
              "    .dataframe tbody tr th {\n",
              "        vertical-align: top;\n",
              "    }\n",
              "\n",
              "    .dataframe thead th {\n",
              "        text-align: right;\n",
              "    }\n",
              "</style>\n",
              "<table border=\"1\" class=\"dataframe\">\n",
              "  <thead>\n",
              "    <tr style=\"text-align: right;\">\n",
              "      <th></th>\n",
              "      <th>count</th>\n",
              "      <th>mean</th>\n",
              "      <th>std</th>\n",
              "      <th>min</th>\n",
              "      <th>25%</th>\n",
              "      <th>50%</th>\n",
              "      <th>75%</th>\n",
              "      <th>max</th>\n",
              "    </tr>\n",
              "  </thead>\n",
              "  <tbody>\n",
              "    <tr>\n",
              "      <th>LATITUDE</th>\n",
              "      <td>13932.0</td>\n",
              "      <td>2.572881e+01</td>\n",
              "      <td>1.406333e-01</td>\n",
              "      <td>2.543433e+01</td>\n",
              "      <td>2.562006e+01</td>\n",
              "      <td>2.573181e+01</td>\n",
              "      <td>2.585227e+01</td>\n",
              "      <td>2.597438e+01</td>\n",
              "    </tr>\n",
              "    <tr>\n",
              "      <th>LONGITUDE</th>\n",
              "      <td>13932.0</td>\n",
              "      <td>-8.032748e+01</td>\n",
              "      <td>8.919907e-02</td>\n",
              "      <td>-8.054217e+01</td>\n",
              "      <td>-8.040328e+01</td>\n",
              "      <td>-8.033891e+01</td>\n",
              "      <td>-8.025802e+01</td>\n",
              "      <td>-8.011975e+01</td>\n",
              "    </tr>\n",
              "    <tr>\n",
              "      <th>PARCELNO</th>\n",
              "      <td>13932.0</td>\n",
              "      <td>2.356496e+12</td>\n",
              "      <td>1.199290e+12</td>\n",
              "      <td>1.020008e+11</td>\n",
              "      <td>1.079160e+12</td>\n",
              "      <td>3.040300e+12</td>\n",
              "      <td>3.060170e+12</td>\n",
              "      <td>3.660170e+12</td>\n",
              "    </tr>\n",
              "    <tr>\n",
              "      <th>SALE_PRC</th>\n",
              "      <td>13932.0</td>\n",
              "      <td>3.999419e+05</td>\n",
              "      <td>3.172147e+05</td>\n",
              "      <td>7.200000e+04</td>\n",
              "      <td>2.350000e+05</td>\n",
              "      <td>3.100000e+05</td>\n",
              "      <td>4.280000e+05</td>\n",
              "      <td>2.650000e+06</td>\n",
              "    </tr>\n",
              "    <tr>\n",
              "      <th>LND_SQFOOT</th>\n",
              "      <td>13932.0</td>\n",
              "      <td>8.620880e+03</td>\n",
              "      <td>6.070089e+03</td>\n",
              "      <td>1.248000e+03</td>\n",
              "      <td>5.400000e+03</td>\n",
              "      <td>7.500000e+03</td>\n",
              "      <td>9.126250e+03</td>\n",
              "      <td>5.706400e+04</td>\n",
              "    </tr>\n",
              "    <tr>\n",
              "      <th>TOT_LVG_AREA</th>\n",
              "      <td>13932.0</td>\n",
              "      <td>2.058045e+03</td>\n",
              "      <td>8.135385e+02</td>\n",
              "      <td>8.540000e+02</td>\n",
              "      <td>1.470000e+03</td>\n",
              "      <td>1.877500e+03</td>\n",
              "      <td>2.471000e+03</td>\n",
              "      <td>6.287000e+03</td>\n",
              "    </tr>\n",
              "    <tr>\n",
              "      <th>SPEC_FEAT_VAL</th>\n",
              "      <td>13932.0</td>\n",
              "      <td>9.562493e+03</td>\n",
              "      <td>1.389097e+04</td>\n",
              "      <td>0.000000e+00</td>\n",
              "      <td>8.100000e+02</td>\n",
              "      <td>2.765500e+03</td>\n",
              "      <td>1.235225e+04</td>\n",
              "      <td>1.750200e+05</td>\n",
              "    </tr>\n",
              "    <tr>\n",
              "      <th>RAIL_DIST</th>\n",
              "      <td>13932.0</td>\n",
              "      <td>8.348549e+03</td>\n",
              "      <td>6.178027e+03</td>\n",
              "      <td>1.050000e+01</td>\n",
              "      <td>3.299450e+03</td>\n",
              "      <td>7.106300e+03</td>\n",
              "      <td>1.210260e+04</td>\n",
              "      <td>2.962150e+04</td>\n",
              "    </tr>\n",
              "    <tr>\n",
              "      <th>OCEAN_DIST</th>\n",
              "      <td>13932.0</td>\n",
              "      <td>3.169099e+04</td>\n",
              "      <td>1.759508e+04</td>\n",
              "      <td>2.361000e+02</td>\n",
              "      <td>1.807935e+04</td>\n",
              "      <td>2.854175e+04</td>\n",
              "      <td>4.431065e+04</td>\n",
              "      <td>7.574490e+04</td>\n",
              "    </tr>\n",
              "    <tr>\n",
              "      <th>WATER_DIST</th>\n",
              "      <td>13932.0</td>\n",
              "      <td>1.196029e+04</td>\n",
              "      <td>1.193299e+04</td>\n",
              "      <td>0.000000e+00</td>\n",
              "      <td>2.675850e+03</td>\n",
              "      <td>6.922600e+03</td>\n",
              "      <td>1.920000e+04</td>\n",
              "      <td>5.039980e+04</td>\n",
              "    </tr>\n",
              "    <tr>\n",
              "      <th>CNTR_DIST</th>\n",
              "      <td>13932.0</td>\n",
              "      <td>6.849033e+04</td>\n",
              "      <td>3.200847e+04</td>\n",
              "      <td>3.825600e+03</td>\n",
              "      <td>4.282310e+04</td>\n",
              "      <td>6.585240e+04</td>\n",
              "      <td>8.935832e+04</td>\n",
              "      <td>1.599765e+05</td>\n",
              "    </tr>\n",
              "    <tr>\n",
              "      <th>SUBCNTR_DI</th>\n",
              "      <td>13932.0</td>\n",
              "      <td>4.111505e+04</td>\n",
              "      <td>2.216183e+04</td>\n",
              "      <td>1.462800e+03</td>\n",
              "      <td>2.399625e+04</td>\n",
              "      <td>4.110990e+04</td>\n",
              "      <td>5.394938e+04</td>\n",
              "      <td>1.105538e+05</td>\n",
              "    </tr>\n",
              "    <tr>\n",
              "      <th>HWY_DIST</th>\n",
              "      <td>13932.0</td>\n",
              "      <td>7.723771e+03</td>\n",
              "      <td>6.068936e+03</td>\n",
              "      <td>9.020000e+01</td>\n",
              "      <td>2.998125e+03</td>\n",
              "      <td>6.159750e+03</td>\n",
              "      <td>1.085420e+04</td>\n",
              "      <td>4.816730e+04</td>\n",
              "    </tr>\n",
              "    <tr>\n",
              "      <th>age</th>\n",
              "      <td>13932.0</td>\n",
              "      <td>3.066925e+01</td>\n",
              "      <td>2.115307e+01</td>\n",
              "      <td>0.000000e+00</td>\n",
              "      <td>1.400000e+01</td>\n",
              "      <td>2.600000e+01</td>\n",
              "      <td>4.600000e+01</td>\n",
              "      <td>9.600000e+01</td>\n",
              "    </tr>\n",
              "    <tr>\n",
              "      <th>avno60plus</th>\n",
              "      <td>13932.0</td>\n",
              "      <td>1.492966e-02</td>\n",
              "      <td>1.212758e-01</td>\n",
              "      <td>0.000000e+00</td>\n",
              "      <td>0.000000e+00</td>\n",
              "      <td>0.000000e+00</td>\n",
              "      <td>0.000000e+00</td>\n",
              "      <td>1.000000e+00</td>\n",
              "    </tr>\n",
              "    <tr>\n",
              "      <th>month_sold</th>\n",
              "      <td>13932.0</td>\n",
              "      <td>6.655828e+00</td>\n",
              "      <td>3.301523e+00</td>\n",
              "      <td>1.000000e+00</td>\n",
              "      <td>4.000000e+00</td>\n",
              "      <td>7.000000e+00</td>\n",
              "      <td>9.000000e+00</td>\n",
              "      <td>1.200000e+01</td>\n",
              "    </tr>\n",
              "    <tr>\n",
              "      <th>structure_quality</th>\n",
              "      <td>13932.0</td>\n",
              "      <td>3.513997e+00</td>\n",
              "      <td>1.097444e+00</td>\n",
              "      <td>1.000000e+00</td>\n",
              "      <td>2.000000e+00</td>\n",
              "      <td>4.000000e+00</td>\n",
              "      <td>4.000000e+00</td>\n",
              "      <td>5.000000e+00</td>\n",
              "    </tr>\n",
              "  </tbody>\n",
              "</table>\n",
              "</div>\n",
              "      <button class=\"colab-df-convert\" onclick=\"convertToInteractive('df-632787a9-1f87-4767-9002-2fa625d9a66b')\"\n",
              "              title=\"Convert this dataframe to an interactive table.\"\n",
              "              style=\"display:none;\">\n",
              "        \n",
              "  <svg xmlns=\"http://www.w3.org/2000/svg\" height=\"24px\"viewBox=\"0 0 24 24\"\n",
              "       width=\"24px\">\n",
              "    <path d=\"M0 0h24v24H0V0z\" fill=\"none\"/>\n",
              "    <path d=\"M18.56 5.44l.94 2.06.94-2.06 2.06-.94-2.06-.94-.94-2.06-.94 2.06-2.06.94zm-11 1L8.5 8.5l.94-2.06 2.06-.94-2.06-.94L8.5 2.5l-.94 2.06-2.06.94zm10 10l.94 2.06.94-2.06 2.06-.94-2.06-.94-.94-2.06-.94 2.06-2.06.94z\"/><path d=\"M17.41 7.96l-1.37-1.37c-.4-.4-.92-.59-1.43-.59-.52 0-1.04.2-1.43.59L10.3 9.45l-7.72 7.72c-.78.78-.78 2.05 0 2.83L4 21.41c.39.39.9.59 1.41.59.51 0 1.02-.2 1.41-.59l7.78-7.78 2.81-2.81c.8-.78.8-2.07 0-2.86zM5.41 20L4 18.59l7.72-7.72 1.47 1.35L5.41 20z\"/>\n",
              "  </svg>\n",
              "      </button>\n",
              "      \n",
              "  <style>\n",
              "    .colab-df-container {\n",
              "      display:flex;\n",
              "      flex-wrap:wrap;\n",
              "      gap: 12px;\n",
              "    }\n",
              "\n",
              "    .colab-df-convert {\n",
              "      background-color: #E8F0FE;\n",
              "      border: none;\n",
              "      border-radius: 50%;\n",
              "      cursor: pointer;\n",
              "      display: none;\n",
              "      fill: #1967D2;\n",
              "      height: 32px;\n",
              "      padding: 0 0 0 0;\n",
              "      width: 32px;\n",
              "    }\n",
              "\n",
              "    .colab-df-convert:hover {\n",
              "      background-color: #E2EBFA;\n",
              "      box-shadow: 0px 1px 2px rgba(60, 64, 67, 0.3), 0px 1px 3px 1px rgba(60, 64, 67, 0.15);\n",
              "      fill: #174EA6;\n",
              "    }\n",
              "\n",
              "    [theme=dark] .colab-df-convert {\n",
              "      background-color: #3B4455;\n",
              "      fill: #D2E3FC;\n",
              "    }\n",
              "\n",
              "    [theme=dark] .colab-df-convert:hover {\n",
              "      background-color: #434B5C;\n",
              "      box-shadow: 0px 1px 3px 1px rgba(0, 0, 0, 0.15);\n",
              "      filter: drop-shadow(0px 1px 2px rgba(0, 0, 0, 0.3));\n",
              "      fill: #FFFFFF;\n",
              "    }\n",
              "  </style>\n",
              "\n",
              "      <script>\n",
              "        const buttonEl =\n",
              "          document.querySelector('#df-632787a9-1f87-4767-9002-2fa625d9a66b button.colab-df-convert');\n",
              "        buttonEl.style.display =\n",
              "          google.colab.kernel.accessAllowed ? 'block' : 'none';\n",
              "\n",
              "        async function convertToInteractive(key) {\n",
              "          const element = document.querySelector('#df-632787a9-1f87-4767-9002-2fa625d9a66b');\n",
              "          const dataTable =\n",
              "            await google.colab.kernel.invokeFunction('convertToInteractive',\n",
              "                                                     [key], {});\n",
              "          if (!dataTable) return;\n",
              "\n",
              "          const docLinkHtml = 'Like what you see? Visit the ' +\n",
              "            '<a target=\"_blank\" href=https://colab.research.google.com/notebooks/data_table.ipynb>data table notebook</a>'\n",
              "            + ' to learn more about interactive tables.';\n",
              "          element.innerHTML = '';\n",
              "          dataTable['output_type'] = 'display_data';\n",
              "          await google.colab.output.renderOutput(dataTable, element);\n",
              "          const docLink = document.createElement('div');\n",
              "          docLink.innerHTML = docLinkHtml;\n",
              "          element.appendChild(docLink);\n",
              "        }\n",
              "      </script>\n",
              "    </div>\n",
              "  </div>\n",
              "  "
            ]
          },
          "metadata": {},
          "execution_count": 74
        }
      ],
      "source": [
        "#Se revisa que el archivo se cargó correctamente y se visualiza un resumen descriptivo\n",
        "miami.describe().T"
      ]
    },
    {
      "cell_type": "code",
      "execution_count": 75,
      "metadata": {
        "colab": {
          "base_uri": "https://localhost:8080/",
          "height": 49
        },
        "id": "t-52vprFhjBJ",
        "outputId": "65690f90-3d4e-44f9-a03a-1bb21c09f119"
      },
      "outputs": [
        {
          "output_type": "execute_result",
          "data": {
            "text/plain": [
              "Empty DataFrame\n",
              "Columns: [LATITUDE, LONGITUDE, PARCELNO, SALE_PRC, LND_SQFOOT, TOT_LVG_AREA, SPEC_FEAT_VAL, RAIL_DIST, OCEAN_DIST, WATER_DIST, CNTR_DIST, SUBCNTR_DI, HWY_DIST, age, avno60plus, month_sold, structure_quality]\n",
              "Index: []"
            ],
            "text/html": [
              "\n",
              "  <div id=\"df-ca656e38-b0b4-4700-b628-4a491cdd1341\">\n",
              "    <div class=\"colab-df-container\">\n",
              "      <div>\n",
              "<style scoped>\n",
              "    .dataframe tbody tr th:only-of-type {\n",
              "        vertical-align: middle;\n",
              "    }\n",
              "\n",
              "    .dataframe tbody tr th {\n",
              "        vertical-align: top;\n",
              "    }\n",
              "\n",
              "    .dataframe thead th {\n",
              "        text-align: right;\n",
              "    }\n",
              "</style>\n",
              "<table border=\"1\" class=\"dataframe\">\n",
              "  <thead>\n",
              "    <tr style=\"text-align: right;\">\n",
              "      <th></th>\n",
              "      <th>LATITUDE</th>\n",
              "      <th>LONGITUDE</th>\n",
              "      <th>PARCELNO</th>\n",
              "      <th>SALE_PRC</th>\n",
              "      <th>LND_SQFOOT</th>\n",
              "      <th>TOT_LVG_AREA</th>\n",
              "      <th>SPEC_FEAT_VAL</th>\n",
              "      <th>RAIL_DIST</th>\n",
              "      <th>OCEAN_DIST</th>\n",
              "      <th>WATER_DIST</th>\n",
              "      <th>CNTR_DIST</th>\n",
              "      <th>SUBCNTR_DI</th>\n",
              "      <th>HWY_DIST</th>\n",
              "      <th>age</th>\n",
              "      <th>avno60plus</th>\n",
              "      <th>month_sold</th>\n",
              "      <th>structure_quality</th>\n",
              "    </tr>\n",
              "  </thead>\n",
              "  <tbody>\n",
              "  </tbody>\n",
              "</table>\n",
              "</div>\n",
              "      <button class=\"colab-df-convert\" onclick=\"convertToInteractive('df-ca656e38-b0b4-4700-b628-4a491cdd1341')\"\n",
              "              title=\"Convert this dataframe to an interactive table.\"\n",
              "              style=\"display:none;\">\n",
              "        \n",
              "  <svg xmlns=\"http://www.w3.org/2000/svg\" height=\"24px\"viewBox=\"0 0 24 24\"\n",
              "       width=\"24px\">\n",
              "    <path d=\"M0 0h24v24H0V0z\" fill=\"none\"/>\n",
              "    <path d=\"M18.56 5.44l.94 2.06.94-2.06 2.06-.94-2.06-.94-.94-2.06-.94 2.06-2.06.94zm-11 1L8.5 8.5l.94-2.06 2.06-.94-2.06-.94L8.5 2.5l-.94 2.06-2.06.94zm10 10l.94 2.06.94-2.06 2.06-.94-2.06-.94-.94-2.06-.94 2.06-2.06.94z\"/><path d=\"M17.41 7.96l-1.37-1.37c-.4-.4-.92-.59-1.43-.59-.52 0-1.04.2-1.43.59L10.3 9.45l-7.72 7.72c-.78.78-.78 2.05 0 2.83L4 21.41c.39.39.9.59 1.41.59.51 0 1.02-.2 1.41-.59l7.78-7.78 2.81-2.81c.8-.78.8-2.07 0-2.86zM5.41 20L4 18.59l7.72-7.72 1.47 1.35L5.41 20z\"/>\n",
              "  </svg>\n",
              "      </button>\n",
              "      \n",
              "  <style>\n",
              "    .colab-df-container {\n",
              "      display:flex;\n",
              "      flex-wrap:wrap;\n",
              "      gap: 12px;\n",
              "    }\n",
              "\n",
              "    .colab-df-convert {\n",
              "      background-color: #E8F0FE;\n",
              "      border: none;\n",
              "      border-radius: 50%;\n",
              "      cursor: pointer;\n",
              "      display: none;\n",
              "      fill: #1967D2;\n",
              "      height: 32px;\n",
              "      padding: 0 0 0 0;\n",
              "      width: 32px;\n",
              "    }\n",
              "\n",
              "    .colab-df-convert:hover {\n",
              "      background-color: #E2EBFA;\n",
              "      box-shadow: 0px 1px 2px rgba(60, 64, 67, 0.3), 0px 1px 3px 1px rgba(60, 64, 67, 0.15);\n",
              "      fill: #174EA6;\n",
              "    }\n",
              "\n",
              "    [theme=dark] .colab-df-convert {\n",
              "      background-color: #3B4455;\n",
              "      fill: #D2E3FC;\n",
              "    }\n",
              "\n",
              "    [theme=dark] .colab-df-convert:hover {\n",
              "      background-color: #434B5C;\n",
              "      box-shadow: 0px 1px 3px 1px rgba(0, 0, 0, 0.15);\n",
              "      filter: drop-shadow(0px 1px 2px rgba(0, 0, 0, 0.3));\n",
              "      fill: #FFFFFF;\n",
              "    }\n",
              "  </style>\n",
              "\n",
              "      <script>\n",
              "        const buttonEl =\n",
              "          document.querySelector('#df-ca656e38-b0b4-4700-b628-4a491cdd1341 button.colab-df-convert');\n",
              "        buttonEl.style.display =\n",
              "          google.colab.kernel.accessAllowed ? 'block' : 'none';\n",
              "\n",
              "        async function convertToInteractive(key) {\n",
              "          const element = document.querySelector('#df-ca656e38-b0b4-4700-b628-4a491cdd1341');\n",
              "          const dataTable =\n",
              "            await google.colab.kernel.invokeFunction('convertToInteractive',\n",
              "                                                     [key], {});\n",
              "          if (!dataTable) return;\n",
              "\n",
              "          const docLinkHtml = 'Like what you see? Visit the ' +\n",
              "            '<a target=\"_blank\" href=https://colab.research.google.com/notebooks/data_table.ipynb>data table notebook</a>'\n",
              "            + ' to learn more about interactive tables.';\n",
              "          element.innerHTML = '';\n",
              "          dataTable['output_type'] = 'display_data';\n",
              "          await google.colab.output.renderOutput(dataTable, element);\n",
              "          const docLink = document.createElement('div');\n",
              "          docLink.innerHTML = docLinkHtml;\n",
              "          element.appendChild(docLink);\n",
              "        }\n",
              "      </script>\n",
              "    </div>\n",
              "  </div>\n",
              "  "
            ]
          },
          "metadata": {},
          "execution_count": 75
        }
      ],
      "source": [
        "#Se revisa si hay datos faltantes\n",
        "miami[miami.isna().any(axis=1)]"
      ]
    },
    {
      "cell_type": "code",
      "execution_count": 76,
      "metadata": {
        "colab": {
          "base_uri": "https://localhost:8080/"
        },
        "id": "RQ9L0f4U-2Go",
        "outputId": "fc5173c3-6f78-45d0-f95d-c1968101a3a9"
      },
      "outputs": [
        {
          "output_type": "stream",
          "name": "stdout",
          "text": [
            "<class 'pandas.core.frame.DataFrame'>\n",
            "RangeIndex: 13932 entries, 0 to 13931\n",
            "Data columns (total 17 columns):\n",
            " #   Column             Non-Null Count  Dtype  \n",
            "---  ------             --------------  -----  \n",
            " 0   LATITUDE           13932 non-null  float64\n",
            " 1   LONGITUDE          13932 non-null  float64\n",
            " 2   PARCELNO           13932 non-null  int64  \n",
            " 3   SALE_PRC           13932 non-null  float64\n",
            " 4   LND_SQFOOT         13932 non-null  int64  \n",
            " 5   TOT_LVG_AREA       13932 non-null  int64  \n",
            " 6   SPEC_FEAT_VAL      13932 non-null  int64  \n",
            " 7   RAIL_DIST          13932 non-null  float64\n",
            " 8   OCEAN_DIST         13932 non-null  float64\n",
            " 9   WATER_DIST         13932 non-null  float64\n",
            " 10  CNTR_DIST          13932 non-null  float64\n",
            " 11  SUBCNTR_DI         13932 non-null  float64\n",
            " 12  HWY_DIST           13932 non-null  float64\n",
            " 13  age                13932 non-null  int64  \n",
            " 14  avno60plus         13932 non-null  int64  \n",
            " 15  month_sold         13932 non-null  int64  \n",
            " 16  structure_quality  13932 non-null  int64  \n",
            "dtypes: float64(9), int64(8)\n",
            "memory usage: 1.8 MB\n"
          ]
        }
      ],
      "source": [
        "miami.info()"
      ]
    },
    {
      "cell_type": "code",
      "execution_count": 77,
      "metadata": {
        "colab": {
          "base_uri": "https://localhost:8080/"
        },
        "id": "-FBVUTRl-414",
        "outputId": "5e3bf190-2c3e-4569-f09d-2d830a324b64"
      },
      "outputs": [
        {
          "output_type": "execute_result",
          "data": {
            "text/plain": [
              "(13932, 17)"
            ]
          },
          "metadata": {},
          "execution_count": 77
        }
      ],
      "source": [
        "miami.shape"
      ]
    },
    {
      "cell_type": "code",
      "execution_count": 78,
      "metadata": {
        "colab": {
          "base_uri": "https://localhost:8080/"
        },
        "id": "N41pSPlM-8Z-",
        "outputId": "dbd95a7a-9341-4c16-afe8-e67dd0af8846"
      },
      "outputs": [
        {
          "output_type": "stream",
          "name": "stdout",
          "text": [
            "(13932, 15)\n",
            "(13932,)\n"
          ]
        }
      ],
      "source": [
        "# Todas las columnas tienen datos númericos.\n",
        "# Se remueven 1 columna: 'PARCELNO', porque corresponde a un identificador de cada propiedad.\n",
        "# Y se elimina el target 'SALE_PRC' para crear la matriz de features X.\n",
        "X = miami.drop(columns=['PARCELNO', 'SALE_PRC'])\n",
        "print(X.shape)\n",
        "\n",
        "#Se crea el target\n",
        "y = miami['SALE_PRC']\n",
        "print(y.shape)"
      ]
    },
    {
      "cell_type": "markdown",
      "metadata": {
        "id": "YJZGW5nkDDsc"
      },
      "source": [
        "**Reducción de dimensionalidad**\n",
        "\n",
        "Dado que la matriz de features cuenta con 15 variables y el enfoque general de este procedimiento se basa en las métricas de los modelos de aprendizaje automático, se optó por reducir el conjunto de datos a solo 8 variables para facilitar las rondas de ejecución.\n",
        "\n",
        "Para esto, se utilizó la función *SelectKBest* de scikit-learn, y la función *f_regression* para elegir las mejores variables con base en pruebas estadísticas univariadas (F scores)."
      ]
    },
    {
      "cell_type": "code",
      "execution_count": 79,
      "metadata": {
        "colab": {
          "base_uri": "https://localhost:8080/",
          "height": 225
        },
        "id": "oKuBYOe_FDiS",
        "outputId": "6e2872d5-795e-465c-e4aa-1e99457e9091"
      },
      "outputs": [
        {
          "output_type": "stream",
          "name": "stdout",
          "text": [
            "(13932, 8)\n"
          ]
        },
        {
          "output_type": "execute_result",
          "data": {
            "text/plain": [
              "   LND_SQFOOT  TOT_LVG_AREA  SPEC_FEAT_VAL  OCEAN_DIST  CNTR_DIST  SUBCNTR_DI  \\\n",
              "0      9375.0        1753.0            0.0     12811.4    42815.3     37742.2   \n",
              "1      9375.0        1715.0            0.0     10648.4    43504.9     37340.5   \n",
              "2      9375.0        2276.0        49206.0     10574.1    43530.4     37328.7   \n",
              "3     12450.0        2058.0        10033.0     10156.5    43797.5     37423.2   \n",
              "4     12800.0        1684.0        16681.0     10836.8    43599.7     37550.8   \n",
              "\n",
              "   HWY_DIST  structure_quality  \n",
              "0   15954.9                4.0  \n",
              "1   18125.0                4.0  \n",
              "2   18200.5                4.0  \n",
              "3   18514.4                4.0  \n",
              "4   17903.4                4.0  "
            ],
            "text/html": [
              "\n",
              "  <div id=\"df-6243deae-0389-47bc-9109-d5699548c8f2\">\n",
              "    <div class=\"colab-df-container\">\n",
              "      <div>\n",
              "<style scoped>\n",
              "    .dataframe tbody tr th:only-of-type {\n",
              "        vertical-align: middle;\n",
              "    }\n",
              "\n",
              "    .dataframe tbody tr th {\n",
              "        vertical-align: top;\n",
              "    }\n",
              "\n",
              "    .dataframe thead th {\n",
              "        text-align: right;\n",
              "    }\n",
              "</style>\n",
              "<table border=\"1\" class=\"dataframe\">\n",
              "  <thead>\n",
              "    <tr style=\"text-align: right;\">\n",
              "      <th></th>\n",
              "      <th>LND_SQFOOT</th>\n",
              "      <th>TOT_LVG_AREA</th>\n",
              "      <th>SPEC_FEAT_VAL</th>\n",
              "      <th>OCEAN_DIST</th>\n",
              "      <th>CNTR_DIST</th>\n",
              "      <th>SUBCNTR_DI</th>\n",
              "      <th>HWY_DIST</th>\n",
              "      <th>structure_quality</th>\n",
              "    </tr>\n",
              "  </thead>\n",
              "  <tbody>\n",
              "    <tr>\n",
              "      <th>0</th>\n",
              "      <td>9375.0</td>\n",
              "      <td>1753.0</td>\n",
              "      <td>0.0</td>\n",
              "      <td>12811.4</td>\n",
              "      <td>42815.3</td>\n",
              "      <td>37742.2</td>\n",
              "      <td>15954.9</td>\n",
              "      <td>4.0</td>\n",
              "    </tr>\n",
              "    <tr>\n",
              "      <th>1</th>\n",
              "      <td>9375.0</td>\n",
              "      <td>1715.0</td>\n",
              "      <td>0.0</td>\n",
              "      <td>10648.4</td>\n",
              "      <td>43504.9</td>\n",
              "      <td>37340.5</td>\n",
              "      <td>18125.0</td>\n",
              "      <td>4.0</td>\n",
              "    </tr>\n",
              "    <tr>\n",
              "      <th>2</th>\n",
              "      <td>9375.0</td>\n",
              "      <td>2276.0</td>\n",
              "      <td>49206.0</td>\n",
              "      <td>10574.1</td>\n",
              "      <td>43530.4</td>\n",
              "      <td>37328.7</td>\n",
              "      <td>18200.5</td>\n",
              "      <td>4.0</td>\n",
              "    </tr>\n",
              "    <tr>\n",
              "      <th>3</th>\n",
              "      <td>12450.0</td>\n",
              "      <td>2058.0</td>\n",
              "      <td>10033.0</td>\n",
              "      <td>10156.5</td>\n",
              "      <td>43797.5</td>\n",
              "      <td>37423.2</td>\n",
              "      <td>18514.4</td>\n",
              "      <td>4.0</td>\n",
              "    </tr>\n",
              "    <tr>\n",
              "      <th>4</th>\n",
              "      <td>12800.0</td>\n",
              "      <td>1684.0</td>\n",
              "      <td>16681.0</td>\n",
              "      <td>10836.8</td>\n",
              "      <td>43599.7</td>\n",
              "      <td>37550.8</td>\n",
              "      <td>17903.4</td>\n",
              "      <td>4.0</td>\n",
              "    </tr>\n",
              "  </tbody>\n",
              "</table>\n",
              "</div>\n",
              "      <button class=\"colab-df-convert\" onclick=\"convertToInteractive('df-6243deae-0389-47bc-9109-d5699548c8f2')\"\n",
              "              title=\"Convert this dataframe to an interactive table.\"\n",
              "              style=\"display:none;\">\n",
              "        \n",
              "  <svg xmlns=\"http://www.w3.org/2000/svg\" height=\"24px\"viewBox=\"0 0 24 24\"\n",
              "       width=\"24px\">\n",
              "    <path d=\"M0 0h24v24H0V0z\" fill=\"none\"/>\n",
              "    <path d=\"M18.56 5.44l.94 2.06.94-2.06 2.06-.94-2.06-.94-.94-2.06-.94 2.06-2.06.94zm-11 1L8.5 8.5l.94-2.06 2.06-.94-2.06-.94L8.5 2.5l-.94 2.06-2.06.94zm10 10l.94 2.06.94-2.06 2.06-.94-2.06-.94-.94-2.06-.94 2.06-2.06.94z\"/><path d=\"M17.41 7.96l-1.37-1.37c-.4-.4-.92-.59-1.43-.59-.52 0-1.04.2-1.43.59L10.3 9.45l-7.72 7.72c-.78.78-.78 2.05 0 2.83L4 21.41c.39.39.9.59 1.41.59.51 0 1.02-.2 1.41-.59l7.78-7.78 2.81-2.81c.8-.78.8-2.07 0-2.86zM5.41 20L4 18.59l7.72-7.72 1.47 1.35L5.41 20z\"/>\n",
              "  </svg>\n",
              "      </button>\n",
              "      \n",
              "  <style>\n",
              "    .colab-df-container {\n",
              "      display:flex;\n",
              "      flex-wrap:wrap;\n",
              "      gap: 12px;\n",
              "    }\n",
              "\n",
              "    .colab-df-convert {\n",
              "      background-color: #E8F0FE;\n",
              "      border: none;\n",
              "      border-radius: 50%;\n",
              "      cursor: pointer;\n",
              "      display: none;\n",
              "      fill: #1967D2;\n",
              "      height: 32px;\n",
              "      padding: 0 0 0 0;\n",
              "      width: 32px;\n",
              "    }\n",
              "\n",
              "    .colab-df-convert:hover {\n",
              "      background-color: #E2EBFA;\n",
              "      box-shadow: 0px 1px 2px rgba(60, 64, 67, 0.3), 0px 1px 3px 1px rgba(60, 64, 67, 0.15);\n",
              "      fill: #174EA6;\n",
              "    }\n",
              "\n",
              "    [theme=dark] .colab-df-convert {\n",
              "      background-color: #3B4455;\n",
              "      fill: #D2E3FC;\n",
              "    }\n",
              "\n",
              "    [theme=dark] .colab-df-convert:hover {\n",
              "      background-color: #434B5C;\n",
              "      box-shadow: 0px 1px 3px 1px rgba(0, 0, 0, 0.15);\n",
              "      filter: drop-shadow(0px 1px 2px rgba(0, 0, 0, 0.3));\n",
              "      fill: #FFFFFF;\n",
              "    }\n",
              "  </style>\n",
              "\n",
              "      <script>\n",
              "        const buttonEl =\n",
              "          document.querySelector('#df-6243deae-0389-47bc-9109-d5699548c8f2 button.colab-df-convert');\n",
              "        buttonEl.style.display =\n",
              "          google.colab.kernel.accessAllowed ? 'block' : 'none';\n",
              "\n",
              "        async function convertToInteractive(key) {\n",
              "          const element = document.querySelector('#df-6243deae-0389-47bc-9109-d5699548c8f2');\n",
              "          const dataTable =\n",
              "            await google.colab.kernel.invokeFunction('convertToInteractive',\n",
              "                                                     [key], {});\n",
              "          if (!dataTable) return;\n",
              "\n",
              "          const docLinkHtml = 'Like what you see? Visit the ' +\n",
              "            '<a target=\"_blank\" href=https://colab.research.google.com/notebooks/data_table.ipynb>data table notebook</a>'\n",
              "            + ' to learn more about interactive tables.';\n",
              "          element.innerHTML = '';\n",
              "          dataTable['output_type'] = 'display_data';\n",
              "          await google.colab.output.renderOutput(dataTable, element);\n",
              "          const docLink = document.createElement('div');\n",
              "          docLink.innerHTML = docLinkHtml;\n",
              "          element.appendChild(docLink);\n",
              "        }\n",
              "      </script>\n",
              "    </div>\n",
              "  </div>\n",
              "  "
            ]
          },
          "metadata": {},
          "execution_count": 79
        }
      ],
      "source": [
        "#Selección de las mejores 8 variables con las librerías de scikit-learn\n",
        "from sklearn.feature_selection import SelectKBest\n",
        "from sklearn.feature_selection import f_regression\n",
        "from numpy import array\n",
        "\n",
        "seleccion = SelectKBest(f_regression, k=8)\n",
        "X8 = seleccion.fit_transform(X, y)\n",
        "print(X8.shape)\n",
        "\n",
        "filtro = seleccion.get_support()\n",
        "features = array(X.columns)\n",
        "\n",
        "X=pd.DataFrame(X8)\n",
        "X.columns=features[filtro]\n",
        "X.head()"
      ]
    },
    {
      "cell_type": "markdown",
      "metadata": {
        "id": "w42bkjOmxqOW"
      },
      "source": [
        "A continuación, se divide el conjunto de datos en el training set y el test set, en proporciones 0.8 y 0.2, respectivamente.\n",
        "\n",
        "Luego se entrena un modelo de Random Forest, usando la función *RandomForestRegressor*, para predecir el precio de las propiedades a partir de los 8 features seleccionados anteriormente.\n",
        "\n",
        "Random Forest es un algoritmo que no se ve afectado por la escala de las variables. Por lo tanto, no se realizó normalización ni estandarización, procedimientos que serían necesarios de aplicarse otros métodos de regresión."
      ]
    },
    {
      "cell_type": "code",
      "execution_count": 80,
      "metadata": {
        "id": "AUYL2-tL--ib"
      },
      "outputs": [],
      "source": [
        "#Se divide el conjunto de datos en training set y test set\n",
        "X_train, X_test, y_train, y_test = train_test_split(X, y, test_size=0.2, random_state=30)"
      ]
    },
    {
      "cell_type": "code",
      "execution_count": 81,
      "metadata": {
        "id": "CrBaMhoD_BXl"
      },
      "outputs": [],
      "source": [
        "#Se entrena un modelo de Random Forest para regresión\n",
        "RF=RandomForestRegressor()\n",
        "RF.fit(X_train,y_train)\n",
        "y_predict=RF.predict(X_test)"
      ]
    },
    {
      "cell_type": "markdown",
      "metadata": {
        "id": "lhTjWL6ey3xR"
      },
      "source": [
        "El siguiente gráfico de dispersión muestra la relación entre los valores observados y las predicciones del modelo. Se observa que a mayores valores del target aumenta el error en las predicciones.\n",
        "\n",
        "Existen una serie de métricas que sirven para calcular qué tan bueno es el ajuste de los modelos de regresión, las cuales se describirán a a continuación."
      ]
    },
    {
      "cell_type": "code",
      "execution_count": 82,
      "metadata": {
        "colab": {
          "base_uri": "https://localhost:8080/",
          "height": 290
        },
        "id": "ZhtRwZ60CPpp",
        "outputId": "f6e39197-1b50-4519-e86e-0fc47b27bb47"
      },
      "outputs": [
        {
          "output_type": "display_data",
          "data": {
            "text/plain": [
              "<Figure size 432x288 with 1 Axes>"
            ],
            "image/png": "[encoded data removed]"
          },
          "metadata": {
            "needs_background": "light"
          }
        }
      ],
      "source": [
        "#Gráfico de dispersión de predicciones contra valores observados\n",
        "plt.scatter(y_test, y_predict, alpha = 0.25)\n",
        "plt.xlabel('Observados')\n",
        "plt.ylabel('Predicciones')\n",
        "plt.show()"
      ]
    },
    {
      "cell_type": "code",
      "execution_count": 83,
      "metadata": {
        "id": "vWO1fH0d_DmN"
      },
      "outputs": [],
      "source": [
        "#Se importan las distintas métricas de regresión\n",
        "from sklearn.metrics import r2_score\n",
        "from sklearn.metrics import mean_absolute_error\n",
        "from sklearn.metrics import mean_squared_error\n",
        "from sklearn.metrics import mean_squared_log_error\n",
        "from sklearn.metrics import mean_absolute_percentage_error\n",
        "from sklearn.metrics import median_absolute_error\n",
        "from sklearn.metrics import max_error\n",
        "from sklearn.metrics import explained_variance_score\n",
        "from sklearn.metrics import mean_tweedie_deviance\n",
        "from sklearn.metrics import mean_pinball_loss\n",
        "from sklearn.metrics import d2_tweedie_score\n",
        "#from sklearn.metrics import d2_pinball_score\n",
        "#from sklearn.metrics import d2_absolute_error_score"
      ]
    },
    {
      "cell_type": "markdown",
      "metadata": {
        "id": "iqnvy9dZ_GM-"
      },
      "source": [
        "###R$^2$ score\n",
        "\n",
        "El coeficiente de determinación, $R^2$, corresponde a la proporción de la varianza en la variable dependiente (target) que es predecible por las variables dependientes (features).\n",
        "\n",
        "Tiene un mejor valor posible igual a 1, cuando la predicción es perfecta.\n",
        "\n",
        "Puede ser negativo y no necesariamente es equivalente al cuadrado del valor $R$.\n",
        "\n",
        "Cuando los residuos de la predicción tienen promedio de cero, el **$R^2$** es idéntico al **Explained variance score**.\n",
        "\n",
        "$R^2(y, \\hat{y}) = 1 - \\frac{\\sum_{i=1}^{n} (y_i - \\hat{y}_i)^2}{\\sum_{i=1}^{n} (y_i - \\bar{y})^2}$"
      ]
    },
    {
      "cell_type": "code",
      "execution_count": 84,
      "metadata": {
        "colab": {
          "base_uri": "https://localhost:8080/"
        },
        "id": "Wbxs6JwMGYyx",
        "outputId": "8e10b5c5-c1c2-4a25-c443-1a09eee8a6eb"
      },
      "outputs": [
        {
          "output_type": "stream",
          "name": "stdout",
          "text": [
            "R^2: 0.8869845909923163\n"
          ]
        }
      ],
      "source": [
        "RF_r2_score = r2_score(y_test, y_predict)\n",
        "print('R^2:', RF_r2_score)"
      ]
    },
    {
      "cell_type": "markdown",
      "metadata": {
        "id": "0nGPsjmfpDUF"
      },
      "source": [
        "###Mean absolute error\n",
        "\n",
        "Esta métrica corresponde al valor esperado de la función de pérdida de la norma $l1$, o pérdida del error absoluto.\n",
        "\n",
        "Dada una cantidad de muestras, se calcula de la siguiente manera:\n",
        "\n",
        "$\\text{MAE}(y, \\hat{y}) = \\frac{1}{n_{\\text{samples}}} \\sum_{i=0}^{n_{\\text{samples}}-1} \\left| y_i - \\hat{y}_i \\right|$"
      ]
    },
    {
      "cell_type": "code",
      "execution_count": 85,
      "metadata": {
        "colab": {
          "base_uri": "https://localhost:8080/"
        },
        "id": "DwDIcnksGf0d",
        "outputId": "b119b362-b223-4f66-96e9-e0e312b0cf81"
      },
      "outputs": [
        {
          "output_type": "stream",
          "name": "stdout",
          "text": [
            "MAE: 54324.7278196388\n"
          ]
        }
      ],
      "source": [
        "RF_mean_absolute_error = mean_absolute_error(y_test, y_predict)\n",
        "print('MAE:', RF_mean_absolute_error)"
      ]
    },
    {
      "cell_type": "markdown",
      "metadata": {
        "id": "_a6pUZDnNGi6"
      },
      "source": [
        "###Mean squared error\n",
        "\n",
        "Una métrica que consiste en el valor esperado del error cuadrado. Puede entenderse como una medida de la calidad del estimador. Se deriva del cuadrado de la distancia Euclidiana.\n",
        "\n",
        "El MSE siempre es positivo y disminuye conforme el error se acerca a 0.\n",
        "\n",
        "$\\text{MSE}(y, \\hat{y}) = \\frac{1}{n_\\text{samples}} \\sum_{i=0}^{n_\\text{samples} - 1} (y_i - \\hat{y}_i)^2$\n",
        "\n",
        "\n",
        "\n",
        "\n",
        "\n"
      ]
    },
    {
      "cell_type": "code",
      "execution_count": 86,
      "metadata": {
        "colab": {
          "base_uri": "https://localhost:8080/"
        },
        "id": "b30BxE-7GjBk",
        "outputId": "ef2de4e4-0500-477c-fb78-7b9f51c1ade1"
      },
      "outputs": [
        {
          "output_type": "stream",
          "name": "stdout",
          "text": [
            "MSE: 12836682299.483072\n"
          ]
        }
      ],
      "source": [
        "RF_mean_squared_error = mean_squared_error(y_test, y_predict)\n",
        "print('MSE:', RF_mean_squared_error)"
      ]
    },
    {
      "cell_type": "markdown",
      "metadata": {
        "id": "OrceCwMKpVgU"
      },
      "source": [
        "###Mean squared log error\n",
        "\n",
        "MSLE calcula el valor esperado de la función de pérdida del error logarítmico cuadrado. Esta métrica es útil cuando los target muestran un comportamiento exponencial, como el crecimiento de algunas poblaciones. Puede tender a más a sobrestimaciones que a subestimaciones.\n",
        "\n",
        "$\\text{MSLE}(y, \\hat{y}) = \\frac{1}{n_\\text{samples}} \\sum_{i=0}^{n_\\text{samples} - 1} (\\log_e (1 + y_i) - \\log_e (1 + \\hat{y}_i) )^2$"
      ]
    },
    {
      "cell_type": "code",
      "execution_count": 87,
      "metadata": {
        "colab": {
          "base_uri": "https://localhost:8080/"
        },
        "id": "m_me8nAJGo6z",
        "outputId": "cabd6871-5304-4ece-bcc4-d895e55e4bb8"
      },
      "outputs": [
        {
          "output_type": "stream",
          "name": "stdout",
          "text": [
            "MSLE: 0.03093873327045784\n"
          ]
        }
      ],
      "source": [
        "RF_mean_squared_log_error = mean_squared_log_error(y_test, y_predict)\n",
        "print('MSLE:', RF_mean_squared_log_error)"
      ]
    },
    {
      "cell_type": "markdown",
      "metadata": {
        "id": "7wqcIQUspcWH"
      },
      "source": [
        "###Mean absolute percentage error\n",
        "\n",
        "MAPE es una métrica que es sensitiva principalmente a errores relativos. Por consiguiente, no se ve afectada por cambios en  la escala del target.\n",
        "\n",
        "Malas predicciones pueden inflar arbitrariamente los valores de MAPE, especialmente cuando valores observados del target son cercanos a cero.\n",
        "\n",
        "El mejor valor es 0.\n",
        "\n",
        "$\\text{MAPE}(y, \\hat{y}) = \\frac{1}{n_{\\text{samples}}} \\sum_{i=0}^{n_{\\text{samples}}-1} \\frac{{}\\left| y_i - \\hat{y}_i \\right|}{\\max(\\epsilon, \\left| y_i \\right|)}$"
      ]
    },
    {
      "cell_type": "code",
      "execution_count": 88,
      "metadata": {
        "colab": {
          "base_uri": "https://localhost:8080/"
        },
        "id": "mr8Ue6tWGsup",
        "outputId": "e5bb7b09-ede7-4496-8261-04e2db2b10b2"
      },
      "outputs": [
        {
          "output_type": "stream",
          "name": "stdout",
          "text": [
            "MAPE: 0.1296457445360175\n"
          ]
        }
      ],
      "source": [
        "RF_mean_absolute_percentage_error = mean_absolute_percentage_error(y_test, y_predict)\n",
        "print('MAPE:', RF_mean_absolute_percentage_error)"
      ]
    },
    {
      "cell_type": "markdown",
      "metadata": {
        "id": "65PtZADPpj7j"
      },
      "source": [
        "###Median absolute error\n",
        "\n",
        "Esta métrica tiene la ventaja de que es robusta ante valores extremos. La pérdida se estima calculando la mediana de todas las diferencias absolutas entre el target y las predicciones.\n",
        "\n",
        "El mejor valor es 0.0.\n",
        "\n",
        "\n",
        "$\\text{MedAE}(y, \\hat{y}) = \\text{median}(\\mid y_1 - \\hat{y}_1 \\mid, \\ldots, \\mid y_n - \\hat{y}_n \\mid)$\n",
        "\n"
      ]
    },
    {
      "cell_type": "code",
      "execution_count": 89,
      "metadata": {
        "colab": {
          "base_uri": "https://localhost:8080/"
        },
        "id": "gx-1OjvqGyj9",
        "outputId": "3e0c9712-8793-430b-be67-28c2cf2d7b01"
      },
      "outputs": [
        {
          "output_type": "stream",
          "name": "stdout",
          "text": [
            "MedAE: 26278.0\n"
          ]
        }
      ],
      "source": [
        "RF_median_absolute_error = median_absolute_error(y_test, y_predict)\n",
        "print('MedAE:', RF_median_absolute_error)"
      ]
    },
    {
      "cell_type": "markdown",
      "metadata": {
        "id": "TWvrX8F7pt94"
      },
      "source": [
        "###Max error\n",
        "\n",
        "El *Max Error* o error máximo calcula el máximo error en los residuos, es decir, la mayor diferencia entre una predicción y su correspondiente valor observado. Muestra el grado de error que el modelo tuvo cuando se ajustó.\n",
        "\n",
        "Su mejor valor es 0. \n",
        "\n",
        "$\\text{Max Error}(y, \\hat{y}) = \\max(| y_i - \\hat{y}_i |)$"
      ]
    },
    {
      "cell_type": "code",
      "execution_count": 90,
      "metadata": {
        "colab": {
          "base_uri": "https://localhost:8080/"
        },
        "id": "IvoE3Pm3G3hI",
        "outputId": "3614a7d1-21e4-4ba9-a0c0-8313a2b19e75"
      },
      "outputs": [
        {
          "output_type": "stream",
          "name": "stdout",
          "text": [
            "MaxError: 1304615.0\n"
          ]
        }
      ],
      "source": [
        "RF_max_error = max_error(y_test, y_predict)\n",
        "print('MaxError:', RF_max_error)"
      ]
    },
    {
      "cell_type": "markdown",
      "metadata": {
        "id": "km9e53xwp0To"
      },
      "source": [
        "###Explained variance score\n",
        "\n",
        "Métrica que mide la proporción en la que el modelo explica la varianza del conjunto de datos. Es complementaria a la varianza residual.\n",
        "\n",
        "Es similar a $R^2$, pero esta última métrica generalmente es preferible porque toma en cuenta desvíos sistemáticos en las predicciones.\n",
        "\n",
        "Su mejor valor posible es 1.0, y menores valores indican una menor proporción.\n",
        "\n",
        "$explained\\_{}variance(y, \\hat{y}) = 1 - \\frac{Var\\{ y - \\hat{y}\\}}{Var\\{y\\}}$"
      ]
    },
    {
      "cell_type": "code",
      "execution_count": 91,
      "metadata": {
        "colab": {
          "base_uri": "https://localhost:8080/"
        },
        "id": "rNNpbteKG63y",
        "outputId": "899fe1d0-5147-4d5e-e6c5-f399adfc06be"
      },
      "outputs": [
        {
          "output_type": "stream",
          "name": "stdout",
          "text": [
            "explained variance: 0.8870056826305452\n"
          ]
        }
      ],
      "source": [
        "RF_explained_variance_score = explained_variance_score(y_test, y_predict)\n",
        "print('explained variance:', RF_explained_variance_score)"
      ]
    },
    {
      "cell_type": "markdown",
      "metadata": {
        "id": "gsSsnnkQHJpk"
      },
      "source": [
        "###Otras métricas para evaluar modelos de regresión"
      ]
    },
    {
      "cell_type": "code",
      "execution_count": 92,
      "metadata": {
        "colab": {
          "base_uri": "https://localhost:8080/"
        },
        "id": "8UBrhatGIP_D",
        "outputId": "c567331a-a8c3-44e4-8d9e-3dda3bcfe614"
      },
      "outputs": [
        {
          "output_type": "stream",
          "name": "stdout",
          "text": [
            "mean Tweedie deviance error with power=0: 12836682299.483072\n",
            "mean Tweedie deviance error with power=1: 14615.843678552756\n",
            "mean Tweedie deviance error with power=2: 0.02963489720189383\n",
            "pinball: 27162.3639098194\n",
            "D^2: 0.8869845909923163\n"
          ]
        }
      ],
      "source": [
        "#Métricas adicionales\n",
        "\n",
        "power_values = [0, 1, 2]\n",
        "txt = \"mean Tweedie deviance error with power={}:\"\n",
        "for i in power_values:\n",
        "  D = mean_tweedie_deviance(y_test, y_predict, power = i)\n",
        "  print(txt.format(i), D)\n",
        "\n",
        "RF_mean_pinball_loss = mean_pinball_loss(y_test, y_predict)\n",
        "print('pinball:', RF_mean_pinball_loss)\n",
        "RF_d2_tweedie_score = d2_tweedie_score(y_test, y_predict)\n",
        "print('D^2:', RF_d2_tweedie_score)"
      ]
    },
    {
      "cell_type": "markdown",
      "metadata": {
        "id": "W9TFiXyoIb71"
      },
      "source": [
        "Se observa que en algunos casos, según las especificaciones que se utilicen, algunas métricas son equivalentes entre ellas. Por ejemplo, el *mean Tweedie deviance error* con power=0, es igual al MSE. Algunas métricas por lo tanto, pueden ser redundantes."
      ]
    },
    {
      "cell_type": "code",
      "execution_count": 93,
      "metadata": {
        "colab": {
          "base_uri": "https://localhost:8080/"
        },
        "id": "PHjRiHRHJKQN",
        "outputId": "e47f77b0-837c-443d-faea-2520a958fbd0"
      },
      "outputs": [
        {
          "output_type": "stream",
          "name": "stdout",
          "text": [
            "MSE: 12836682299.483072\n"
          ]
        }
      ],
      "source": [
        "RF_mean_squared_error = mean_squared_error(y_test, y_predict)\n",
        "print('MSE:', RF_mean_squared_error)"
      ]
    },
    {
      "cell_type": "markdown",
      "metadata": {
        "id": "49R5UWzy9s6F"
      },
      "source": [
        "###Comparación de métricas de regresión\n",
        "\n",
        "**Variación de métricas de regresión según tamaño de muestras en modelos de RF**\n",
        "\n",
        "Para explorar el comportamiento de las distintas métricas, se calcularon varios modelos de *Random Forest* (RF) con variaciones en el hiperparámetro 'max_samples' o tamaño de las muestras. El mismo controla la cantidad de instancias o registros que que se usan a la vez para construir cada uno de los árboles de decisión del bosque aleatorio. Al ser un método de ensamble, posteriormente promedia todas las predicciones, mejorando el desempeño del modelo y ayudando a no caer en sobreajuste.\n",
        "\n",
        "Conforme el tamaño de las muestras aumenta, existe mayor representatividad de los datos en cada árbol y por lo tanto hay un mejor ajuste del modelo de RF.\n",
        "\n",
        "A continuación se calculan las variaciones de los modelos de RF según 11 valores de 'max_samples' entre 1000 y 2000, y se analizan el patrón general de las métricas. Posteriormente, se describe brevemente cada métrica."
      ]
    },
    {
      "cell_type": "code",
      "execution_count": 94,
      "metadata": {
        "id": "I7Kf5wxVh3Ux"
      },
      "outputs": [],
      "source": [
        "#Se generan múltiples modelos de regresión con RF\n",
        "# y se recolecta información de las métricas respectivas\n",
        "\n",
        "test_metric = []\n",
        "\n",
        "regression_metrics = [r2_score, mean_absolute_error,\n",
        "                      mean_squared_error, mean_squared_log_error,\n",
        "                      mean_absolute_percentage_error, median_absolute_error,\n",
        "                      max_error, explained_variance_score]\n",
        "\n",
        "valores_de_muestras = range(1000, 2001, 100)\n",
        "for num in valores_de_muestras:\n",
        "  #contruir modelos de Random Forest según diferentes tamaños de muestra \n",
        "  RF = RandomForestRegressor(max_samples = num, n_estimators = 100, random_state = 18)\n",
        "  RF.fit(X_train, y_train)\n",
        "  y_predict=RF.predict(X_test)\n",
        "\n",
        "  for metric in regression_metrics:\n",
        "    #calcular y almacenar valores de las métricas\n",
        "    metric_value = metric(y_test, y_predict)\n",
        "    test_metric.append(metric_value)"
      ]
    },
    {
      "cell_type": "code",
      "execution_count": 95,
      "metadata": {
        "colab": {
          "base_uri": "https://localhost:8080/",
          "height": 394
        },
        "id": "IWDTfpiliVCk",
        "outputId": "7147f69c-3960-4110-e898-9465e61fecab"
      },
      "outputs": [
        {
          "output_type": "execute_result",
          "data": {
            "text/plain": [
              "    r2_score  mean_absolute_error  mean_squared_error  mean_squared_log_error  \\\n",
              "0   0.850307         64060.883323        1.700260e+10                0.042842   \n",
              "1   0.852754         63169.578876        1.672475e+10                0.041871   \n",
              "2   0.855810         62747.185203        1.637763e+10                0.041170   \n",
              "3   0.857718         62455.283739        1.616086e+10                0.040973   \n",
              "4   0.861529         61759.102927        1.572804e+10                0.039606   \n",
              "5   0.860524         61420.673367        1.584217e+10                0.039352   \n",
              "6   0.861555         61348.589445        1.572504e+10                0.039266   \n",
              "7   0.863293         60838.414373        1.552764e+10                0.039069   \n",
              "8   0.865500         60629.805316        1.527699e+10                0.039003   \n",
              "9   0.867173         60143.917268        1.508700e+10                0.037772   \n",
              "10  0.867043         59906.724949        1.510174e+10                0.037495   \n",
              "\n",
              "    mean_absolute_percentage_error  median_absolute_error  max_error  \\\n",
              "0                         0.155743                30903.0  1633118.0   \n",
              "1                         0.153189                30692.0  1611370.0   \n",
              "2                         0.152490                30469.0  1631406.0   \n",
              "3                         0.151966                30055.6  1628919.0   \n",
              "4                         0.149648                29850.6  1576802.0   \n",
              "5                         0.148746                29677.0  1570086.0   \n",
              "6                         0.148574                29346.0  1510524.0   \n",
              "7                         0.147701                29533.0  1627730.0   \n",
              "8                         0.147689                28799.0  1476405.0   \n",
              "9                         0.145654                29214.0  1472918.0   \n",
              "10                        0.144829                29191.0  1441606.0   \n",
              "\n",
              "    explained_variance_score  \n",
              "0                   0.850431  \n",
              "1                   0.852911  \n",
              "2                   0.855893  \n",
              "3                   0.857765  \n",
              "4                   0.861604  \n",
              "5                   0.860605  \n",
              "6                   0.861649  \n",
              "7                   0.863384  \n",
              "8                   0.865562  \n",
              "9                   0.867222  \n",
              "10                  0.867102  "
            ],
            "text/html": [
              "\n",
              "  <div id=\"df-b77353e2-73e9-4b22-a79c-7077f8651281\">\n",
              "    <div class=\"colab-df-container\">\n",
              "      <div>\n",
              "<style scoped>\n",
              "    .dataframe tbody tr th:only-of-type {\n",
              "        vertical-align: middle;\n",
              "    }\n",
              "\n",
              "    .dataframe tbody tr th {\n",
              "        vertical-align: top;\n",
              "    }\n",
              "\n",
              "    .dataframe thead th {\n",
              "        text-align: right;\n",
              "    }\n",
              "</style>\n",
              "<table border=\"1\" class=\"dataframe\">\n",
              "  <thead>\n",
              "    <tr style=\"text-align: right;\">\n",
              "      <th></th>\n",
              "      <th>r2_score</th>\n",
              "      <th>mean_absolute_error</th>\n",
              "      <th>mean_squared_error</th>\n",
              "      <th>mean_squared_log_error</th>\n",
              "      <th>mean_absolute_percentage_error</th>\n",
              "      <th>median_absolute_error</th>\n",
              "      <th>max_error</th>\n",
              "      <th>explained_variance_score</th>\n",
              "    </tr>\n",
              "  </thead>\n",
              "  <tbody>\n",
              "    <tr>\n",
              "      <th>0</th>\n",
              "      <td>0.850307</td>\n",
              "      <td>64060.883323</td>\n",
              "      <td>1.700260e+10</td>\n",
              "      <td>0.042842</td>\n",
              "      <td>0.155743</td>\n",
              "      <td>30903.0</td>\n",
              "      <td>1633118.0</td>\n",
              "      <td>0.850431</td>\n",
              "    </tr>\n",
              "    <tr>\n",
              "      <th>1</th>\n",
              "      <td>0.852754</td>\n",
              "      <td>63169.578876</td>\n",
              "      <td>1.672475e+10</td>\n",
              "      <td>0.041871</td>\n",
              "      <td>0.153189</td>\n",
              "      <td>30692.0</td>\n",
              "      <td>1611370.0</td>\n",
              "      <td>0.852911</td>\n",
              "    </tr>\n",
              "    <tr>\n",
              "      <th>2</th>\n",
              "      <td>0.855810</td>\n",
              "      <td>62747.185203</td>\n",
              "      <td>1.637763e+10</td>\n",
              "      <td>0.041170</td>\n",
              "      <td>0.152490</td>\n",
              "      <td>30469.0</td>\n",
              "      <td>1631406.0</td>\n",
              "      <td>0.855893</td>\n",
              "    </tr>\n",
              "    <tr>\n",
              "      <th>3</th>\n",
              "      <td>0.857718</td>\n",
              "      <td>62455.283739</td>\n",
              "      <td>1.616086e+10</td>\n",
              "      <td>0.040973</td>\n",
              "      <td>0.151966</td>\n",
              "      <td>30055.6</td>\n",
              "      <td>1628919.0</td>\n",
              "      <td>0.857765</td>\n",
              "    </tr>\n",
              "    <tr>\n",
              "      <th>4</th>\n",
              "      <td>0.861529</td>\n",
              "      <td>61759.102927</td>\n",
              "      <td>1.572804e+10</td>\n",
              "      <td>0.039606</td>\n",
              "      <td>0.149648</td>\n",
              "      <td>29850.6</td>\n",
              "      <td>1576802.0</td>\n",
              "      <td>0.861604</td>\n",
              "    </tr>\n",
              "    <tr>\n",
              "      <th>5</th>\n",
              "      <td>0.860524</td>\n",
              "      <td>61420.673367</td>\n",
              "      <td>1.584217e+10</td>\n",
              "      <td>0.039352</td>\n",
              "      <td>0.148746</td>\n",
              "      <td>29677.0</td>\n",
              "      <td>1570086.0</td>\n",
              "      <td>0.860605</td>\n",
              "    </tr>\n",
              "    <tr>\n",
              "      <th>6</th>\n",
              "      <td>0.861555</td>\n",
              "      <td>61348.589445</td>\n",
              "      <td>1.572504e+10</td>\n",
              "      <td>0.039266</td>\n",
              "      <td>0.148574</td>\n",
              "      <td>29346.0</td>\n",
              "      <td>1510524.0</td>\n",
              "      <td>0.861649</td>\n",
              "    </tr>\n",
              "    <tr>\n",
              "      <th>7</th>\n",
              "      <td>0.863293</td>\n",
              "      <td>60838.414373</td>\n",
              "      <td>1.552764e+10</td>\n",
              "      <td>0.039069</td>\n",
              "      <td>0.147701</td>\n",
              "      <td>29533.0</td>\n",
              "      <td>1627730.0</td>\n",
              "      <td>0.863384</td>\n",
              "    </tr>\n",
              "    <tr>\n",
              "      <th>8</th>\n",
              "      <td>0.865500</td>\n",
              "      <td>60629.805316</td>\n",
              "      <td>1.527699e+10</td>\n",
              "      <td>0.039003</td>\n",
              "      <td>0.147689</td>\n",
              "      <td>28799.0</td>\n",
              "      <td>1476405.0</td>\n",
              "      <td>0.865562</td>\n",
              "    </tr>\n",
              "    <tr>\n",
              "      <th>9</th>\n",
              "      <td>0.867173</td>\n",
              "      <td>60143.917268</td>\n",
              "      <td>1.508700e+10</td>\n",
              "      <td>0.037772</td>\n",
              "      <td>0.145654</td>\n",
              "      <td>29214.0</td>\n",
              "      <td>1472918.0</td>\n",
              "      <td>0.867222</td>\n",
              "    </tr>\n",
              "    <tr>\n",
              "      <th>10</th>\n",
              "      <td>0.867043</td>\n",
              "      <td>59906.724949</td>\n",
              "      <td>1.510174e+10</td>\n",
              "      <td>0.037495</td>\n",
              "      <td>0.144829</td>\n",
              "      <td>29191.0</td>\n",
              "      <td>1441606.0</td>\n",
              "      <td>0.867102</td>\n",
              "    </tr>\n",
              "  </tbody>\n",
              "</table>\n",
              "</div>\n",
              "      <button class=\"colab-df-convert\" onclick=\"convertToInteractive('df-b77353e2-73e9-4b22-a79c-7077f8651281')\"\n",
              "              title=\"Convert this dataframe to an interactive table.\"\n",
              "              style=\"display:none;\">\n",
              "        \n",
              "  <svg xmlns=\"http://www.w3.org/2000/svg\" height=\"24px\"viewBox=\"0 0 24 24\"\n",
              "       width=\"24px\">\n",
              "    <path d=\"M0 0h24v24H0V0z\" fill=\"none\"/>\n",
              "    <path d=\"M18.56 5.44l.94 2.06.94-2.06 2.06-.94-2.06-.94-.94-2.06-.94 2.06-2.06.94zm-11 1L8.5 8.5l.94-2.06 2.06-.94-2.06-.94L8.5 2.5l-.94 2.06-2.06.94zm10 10l.94 2.06.94-2.06 2.06-.94-2.06-.94-.94-2.06-.94 2.06-2.06.94z\"/><path d=\"M17.41 7.96l-1.37-1.37c-.4-.4-.92-.59-1.43-.59-.52 0-1.04.2-1.43.59L10.3 9.45l-7.72 7.72c-.78.78-.78 2.05 0 2.83L4 21.41c.39.39.9.59 1.41.59.51 0 1.02-.2 1.41-.59l7.78-7.78 2.81-2.81c.8-.78.8-2.07 0-2.86zM5.41 20L4 18.59l7.72-7.72 1.47 1.35L5.41 20z\"/>\n",
              "  </svg>\n",
              "      </button>\n",
              "      \n",
              "  <style>\n",
              "    .colab-df-container {\n",
              "      display:flex;\n",
              "      flex-wrap:wrap;\n",
              "      gap: 12px;\n",
              "    }\n",
              "\n",
              "    .colab-df-convert {\n",
              "      background-color: #E8F0FE;\n",
              "      border: none;\n",
              "      border-radius: 50%;\n",
              "      cursor: pointer;\n",
              "      display: none;\n",
              "      fill: #1967D2;\n",
              "      height: 32px;\n",
              "      padding: 0 0 0 0;\n",
              "      width: 32px;\n",
              "    }\n",
              "\n",
              "    .colab-df-convert:hover {\n",
              "      background-color: #E2EBFA;\n",
              "      box-shadow: 0px 1px 2px rgba(60, 64, 67, 0.3), 0px 1px 3px 1px rgba(60, 64, 67, 0.15);\n",
              "      fill: #174EA6;\n",
              "    }\n",
              "\n",
              "    [theme=dark] .colab-df-convert {\n",
              "      background-color: #3B4455;\n",
              "      fill: #D2E3FC;\n",
              "    }\n",
              "\n",
              "    [theme=dark] .colab-df-convert:hover {\n",
              "      background-color: #434B5C;\n",
              "      box-shadow: 0px 1px 3px 1px rgba(0, 0, 0, 0.15);\n",
              "      filter: drop-shadow(0px 1px 2px rgba(0, 0, 0, 0.3));\n",
              "      fill: #FFFFFF;\n",
              "    }\n",
              "  </style>\n",
              "\n",
              "      <script>\n",
              "        const buttonEl =\n",
              "          document.querySelector('#df-b77353e2-73e9-4b22-a79c-7077f8651281 button.colab-df-convert');\n",
              "        buttonEl.style.display =\n",
              "          google.colab.kernel.accessAllowed ? 'block' : 'none';\n",
              "\n",
              "        async function convertToInteractive(key) {\n",
              "          const element = document.querySelector('#df-b77353e2-73e9-4b22-a79c-7077f8651281');\n",
              "          const dataTable =\n",
              "            await google.colab.kernel.invokeFunction('convertToInteractive',\n",
              "                                                     [key], {});\n",
              "          if (!dataTable) return;\n",
              "\n",
              "          const docLinkHtml = 'Like what you see? Visit the ' +\n",
              "            '<a target=\"_blank\" href=https://colab.research.google.com/notebooks/data_table.ipynb>data table notebook</a>'\n",
              "            + ' to learn more about interactive tables.';\n",
              "          element.innerHTML = '';\n",
              "          dataTable['output_type'] = 'display_data';\n",
              "          await google.colab.output.renderOutput(dataTable, element);\n",
              "          const docLink = document.createElement('div');\n",
              "          docLink.innerHTML = docLinkHtml;\n",
              "          element.appendChild(docLink);\n",
              "        }\n",
              "      </script>\n",
              "    </div>\n",
              "  </div>\n",
              "  "
            ]
          },
          "metadata": {},
          "execution_count": 95
        }
      ],
      "source": [
        "#Se genera un dataframe con los valores de los modelos RF para cada métrica\n",
        "test_metrics_np = np.asarray(test_metric).reshape(11, 8)\n",
        "metric_names = []\n",
        "for t in regression_metrics:\n",
        "  metric_names.append(t.__name__)\n",
        "\n",
        "test_metrics_df = pd.DataFrame(test_metrics_np, columns = metric_names)\n",
        "test_metrics_df"
      ]
    },
    {
      "cell_type": "markdown",
      "metadata": {
        "id": "BZdXnzR_E62e"
      },
      "source": [
        "Se grafican las valores de los modelos de RF para cada métrica:"
      ]
    },
    {
      "cell_type": "code",
      "execution_count": 96,
      "metadata": {
        "colab": {
          "base_uri": "https://localhost:8080/",
          "height": 622
        },
        "id": "8Y5xJEMZkUW3",
        "outputId": "b0a98fcf-d4aa-48b4-8a07-ed781a4442bd"
      },
      "outputs": [
        {
          "output_type": "display_data",
          "data": {
            "text/plain": [
              "<Figure size 720x720 with 8 Axes>"
            ],
            "image/png": "[encoded data removed]"
          },
          "metadata": {
            "needs_background": "light"
          }
        }
      ],
      "source": [
        "import matplotlib.pyplot as plt\n",
        "figure, axis = plt.subplots(4, 2, sharex = True, figsize = (10, 10))\n",
        "\n",
        "axis[0, 0].plot(valores_de_muestras, test_metrics_df['r2_score'],\n",
        "                color = 'lightgreen')\n",
        "axis[0, 0].set_title('R2')\n",
        "axis[0, 1].plot(valores_de_muestras, test_metrics_df['mean_absolute_error'])\n",
        "axis[0, 1].set_title('MAE')\n",
        "axis[1, 0].plot(valores_de_muestras, test_metrics_df['mean_squared_error'])\n",
        "axis[1, 0].set_title('MSE')\n",
        "axis[1, 1].plot(valores_de_muestras, test_metrics_df['mean_squared_log_error'])\n",
        "axis[1, 1].set_title('MSLE')\n",
        "axis[2, 0].plot(valores_de_muestras, test_metrics_df['mean_absolute_percentage_error'])\n",
        "axis[2, 0].set_title('MAPE')\n",
        "axis[2, 1].plot(valores_de_muestras, test_metrics_df['median_absolute_error'])\n",
        "axis[2, 1].set_title('MedAE')\n",
        "axis[3, 0].plot(valores_de_muestras, test_metrics_df['max_error'])\n",
        "axis[3, 0].set_title('Max Error')\n",
        "axis[3, 0].set_xlabel('Tamaño de muestras')\n",
        "axis[3, 1].plot(valores_de_muestras, test_metrics_df['explained_variance_score'],\n",
        "                color = 'lightgreen')\n",
        "axis[3, 1].set_title('Explained Variance')\n",
        "axis[3, 1].set_xlabel('Tamaño de muestras')\n",
        "plt.show()"
      ]
    },
    {
      "cell_type": "markdown",
      "metadata": {
        "id": "UcA_L4mDEipn"
      },
      "source": [
        "\n",
        "Al graficar las distintas métricas contra las variaciones en este hiperparámetro, se observa cómo el valor de las métricas que miden la proporción de la varianza del target que el modelo puede predecir (p. ej. $R^2$ y explained variance; en color verde) aumentan, al aumentar también el tamaño de las muestras ('max_samples'). En contraste, como se esperaba, los valores de las métricas que consisten en funciones de pérdida, las cuales miden el error en los residuos (p. ej. MSE y MedAE; en color azul), disminuyen conforme el tamaño de las muestras se incrementa."
      ]
    },
    {
      "cell_type": "markdown",
      "metadata": {
        "id": "UtQHr6g6hbDB"
      },
      "source": [
        "#Clasificación "
      ]
    },
    {
      "cell_type": "markdown",
      "metadata": {
        "id": "KQS6ARZ6j8wU"
      },
      "source": [
        "Todas las métricas de clasificación que serán expuestas en este trabajo son extraídas de la documentación oficial de la librería que hemos estado usando en el curso, scikit-learn.\n",
        "\n",
        "Se pueden llegar a agrupar en 3 clases distintas \n",
        "\n",
        "* Clasificación binaria\n",
        "* Clasificación multi clase\n",
        "* Clasificacón multi etiqueta"
      ]
    },
    {
      "cell_type": "markdown",
      "metadata": {
        "id": "aeHizIepqUWu"
      },
      "source": [
        "Para poder demostrar todas las métricas nos dimos la tarea de encontrar datasets sencillos, que no nececitan de procesamiento, o por lo menos no demasiado para ilustar el uso de cada una"
      ]
    },
    {
      "cell_type": "code",
      "execution_count": 97,
      "metadata": {
        "id": "TC_J9SbGmNL8"
      },
      "outputs": [],
      "source": [
        "import pandas as pd\n",
        "import numpy as np\n",
        "import matplotlib.pyplot as plt\n",
        "from string import Template\n",
        "from sklearn.model_selection import train_test_split\n",
        "from sklearn.ensemble import RandomForestClassifier\n",
        "from sklearn.metrics import precision_recall_curve\n",
        "from sklearn.metrics import roc_curve\n",
        "from sklearn.metrics import det_curve\n",
        "from sklearn.metrics import f1_score\n",
        "from sklearn.metrics import roc_auc_score\n",
        "from sklearn.metrics import balanced_accuracy_score\n",
        "from sklearn.metrics import cohen_kappa_score\n",
        "from sklearn.metrics import confusion_matrix\n",
        "from sklearn.metrics import plot_confusion_matrix\n",
        "from sklearn.metrics import hinge_loss\n",
        "from sklearn import svm\n",
        "from sklearn.metrics import matthews_corrcoef\n",
        "from sklearn.metrics import top_k_accuracy_score\n",
        "from sklearn.metrics import accuracy_score\n",
        "from sklearn.metrics import classification_report\n",
        "from sklearn.metrics import average_precision_score\n",
        "from sklearn.metrics import fbeta_score\n",
        "from sklearn.metrics import precision_recall_fscore_support\n",
        "from sklearn.metrics import precision_score\n",
        "from sklearn.metrics import recall_score\n",
        "from sklearn.metrics import coverage_error\n",
        "from sklearn.metrics import label_ranking_average_precision_score\n",
        "from sklearn.metrics import label_ranking_loss\n",
        "from sklearn.metrics import ndcg_score\n",
        "from sklearn.metrics import dcg_score"
      ]
    },
    {
      "cell_type": "markdown",
      "metadata": {
        "id": "WjtPE5DVqla-"
      },
      "source": [
        "## Clasificación binaria"
      ]
    },
    {
      "cell_type": "markdown",
      "metadata": {
        "id": "lUwFgRy6rGZR"
      },
      "source": [
        "Se cargan los datos"
      ]
    },
    {
      "cell_type": "code",
      "execution_count": 98,
      "metadata": {
        "id": "sPAP_an6q6Ah"
      },
      "outputs": [],
      "source": [
        "df=pd.read_csv(\"https://raw.githubusercontent.com/sebaszx/Tarea3Modulo2CienciasDatos/main/ion.csv\")"
      ]
    },
    {
      "cell_type": "code",
      "execution_count": 99,
      "metadata": {
        "colab": {
          "base_uri": "https://localhost:8080/",
          "height": 1000
        },
        "id": "HGN-_UgcrFps",
        "outputId": "4c8c4b98-de10-4107-d844-1b49dbe40dc5"
      },
      "outputs": [
        {
          "output_type": "execute_result",
          "data": {
            "text/plain": [
              "                  0        1        2        3        4\n",
              "Unnamed: 0        1        2        3        4        5\n",
              "V1                1        1        1        1        1\n",
              "V2                0        0        0        0        0\n",
              "V3          0.99539      1.0      1.0      1.0      1.0\n",
              "V4         -0.05889 -0.18829 -0.03365 -0.45161 -0.02401\n",
              "V5          0.85243  0.93035      1.0      1.0   0.9414\n",
              "V6          0.02306 -0.36156  0.00485      1.0  0.06531\n",
              "V7          0.83398 -0.10868      1.0  0.71216  0.92106\n",
              "V8         -0.37708 -0.93597 -0.12062     -1.0 -0.23255\n",
              "V9              1.0      1.0  0.88965      0.0  0.77152\n",
              "V10          0.0376 -0.04549  0.01198      0.0 -0.16399\n",
              "V11         0.85243  0.50874  0.73082      0.0  0.52798\n",
              "V12        -0.17755 -0.67743  0.05346      0.0 -0.20275\n",
              "V13         0.59755  0.34432  0.85443      0.0  0.56409\n",
              "V14        -0.44945 -0.69707  0.00827      0.0 -0.00712\n",
              "V15         0.60536 -0.51685  0.54591     -1.0  0.34395\n",
              "V16        -0.38223 -0.97515  0.00299  0.14516 -0.27457\n",
              "V17         0.84356  0.05499  0.83775  0.54094   0.5294\n",
              "V18        -0.38542 -0.62237 -0.13644  -0.3933  -0.2178\n",
              "V19         0.58212  0.33109  0.75535     -1.0  0.45107\n",
              "V20        -0.32192     -1.0  -0.0854 -0.54467 -0.17813\n",
              "V21         0.56971 -0.13151  0.70887 -0.69975  0.05982\n",
              "V22        -0.29674   -0.453 -0.27502      1.0 -0.35575\n",
              "V23         0.36946 -0.18056  0.43385      0.0  0.02309\n",
              "V24        -0.47357 -0.35734 -0.12062      0.0 -0.52879\n",
              "V25         0.56811 -0.20332  0.57528      1.0  0.03286\n",
              "V26        -0.51171 -0.26569  -0.4022  0.90695 -0.65158\n",
              "V27         0.41078 -0.20468  0.58984  0.51613   0.1329\n",
              "V28        -0.46168 -0.18401 -0.22145      1.0 -0.53206\n",
              "V29         0.21266  -0.1904    0.431      1.0  0.02431\n",
              "V30         -0.3409 -0.11593 -0.17365 -0.20099 -0.62197\n",
              "V31         0.42267 -0.16626  0.60436  0.25682 -0.05707\n",
              "V32        -0.54487 -0.06288  -0.2418      1.0 -0.59573\n",
              "V33         0.18641 -0.13738  0.56045 -0.32382 -0.04608\n",
              "V34          -0.453 -0.02447 -0.38238      1.0 -0.65697\n",
              "Class          good      bad     good      bad     good"
            ],
            "text/html": [
              "\n",
              "  <div id=\"df-d66063cf-5dab-48e7-a315-718ef720cf5d\">\n",
              "    <div class=\"colab-df-container\">\n",
              "      <div>\n",
              "<style scoped>\n",
              "    .dataframe tbody tr th:only-of-type {\n",
              "        vertical-align: middle;\n",
              "    }\n",
              "\n",
              "    .dataframe tbody tr th {\n",
              "        vertical-align: top;\n",
              "    }\n",
              "\n",
              "    .dataframe thead th {\n",
              "        text-align: right;\n",
              "    }\n",
              "</style>\n",
              "<table border=\"1\" class=\"dataframe\">\n",
              "  <thead>\n",
              "    <tr style=\"text-align: right;\">\n",
              "      <th></th>\n",
              "      <th>0</th>\n",
              "      <th>1</th>\n",
              "      <th>2</th>\n",
              "      <th>3</th>\n",
              "      <th>4</th>\n",
              "    </tr>\n",
              "  </thead>\n",
              "  <tbody>\n",
              "    <tr>\n",
              "      <th>Unnamed: 0</th>\n",
              "      <td>1</td>\n",
              "      <td>2</td>\n",
              "      <td>3</td>\n",
              "      <td>4</td>\n",
              "      <td>5</td>\n",
              "    </tr>\n",
              "    <tr>\n",
              "      <th>V1</th>\n",
              "      <td>1</td>\n",
              "      <td>1</td>\n",
              "      <td>1</td>\n",
              "      <td>1</td>\n",
              "      <td>1</td>\n",
              "    </tr>\n",
              "    <tr>\n",
              "      <th>V2</th>\n",
              "      <td>0</td>\n",
              "      <td>0</td>\n",
              "      <td>0</td>\n",
              "      <td>0</td>\n",
              "      <td>0</td>\n",
              "    </tr>\n",
              "    <tr>\n",
              "      <th>V3</th>\n",
              "      <td>0.99539</td>\n",
              "      <td>1.0</td>\n",
              "      <td>1.0</td>\n",
              "      <td>1.0</td>\n",
              "      <td>1.0</td>\n",
              "    </tr>\n",
              "    <tr>\n",
              "      <th>V4</th>\n",
              "      <td>-0.05889</td>\n",
              "      <td>-0.18829</td>\n",
              "      <td>-0.03365</td>\n",
              "      <td>-0.45161</td>\n",
              "      <td>-0.02401</td>\n",
              "    </tr>\n",
              "    <tr>\n",
              "      <th>V5</th>\n",
              "      <td>0.85243</td>\n",
              "      <td>0.93035</td>\n",
              "      <td>1.0</td>\n",
              "      <td>1.0</td>\n",
              "      <td>0.9414</td>\n",
              "    </tr>\n",
              "    <tr>\n",
              "      <th>V6</th>\n",
              "      <td>0.02306</td>\n",
              "      <td>-0.36156</td>\n",
              "      <td>0.00485</td>\n",
              "      <td>1.0</td>\n",
              "      <td>0.06531</td>\n",
              "    </tr>\n",
              "    <tr>\n",
              "      <th>V7</th>\n",
              "      <td>0.83398</td>\n",
              "      <td>-0.10868</td>\n",
              "      <td>1.0</td>\n",
              "      <td>0.71216</td>\n",
              "      <td>0.92106</td>\n",
              "    </tr>\n",
              "    <tr>\n",
              "      <th>V8</th>\n",
              "      <td>-0.37708</td>\n",
              "      <td>-0.93597</td>\n",
              "      <td>-0.12062</td>\n",
              "      <td>-1.0</td>\n",
              "      <td>-0.23255</td>\n",
              "    </tr>\n",
              "    <tr>\n",
              "      <th>V9</th>\n",
              "      <td>1.0</td>\n",
              "      <td>1.0</td>\n",
              "      <td>0.88965</td>\n",
              "      <td>0.0</td>\n",
              "      <td>0.77152</td>\n",
              "    </tr>\n",
              "    <tr>\n",
              "      <th>V10</th>\n",
              "      <td>0.0376</td>\n",
              "      <td>-0.04549</td>\n",
              "      <td>0.01198</td>\n",
              "      <td>0.0</td>\n",
              "      <td>-0.16399</td>\n",
              "    </tr>\n",
              "    <tr>\n",
              "      <th>V11</th>\n",
              "      <td>0.85243</td>\n",
              "      <td>0.50874</td>\n",
              "      <td>0.73082</td>\n",
              "      <td>0.0</td>\n",
              "      <td>0.52798</td>\n",
              "    </tr>\n",
              "    <tr>\n",
              "      <th>V12</th>\n",
              "      <td>-0.17755</td>\n",
              "      <td>-0.67743</td>\n",
              "      <td>0.05346</td>\n",
              "      <td>0.0</td>\n",
              "      <td>-0.20275</td>\n",
              "    </tr>\n",
              "    <tr>\n",
              "      <th>V13</th>\n",
              "      <td>0.59755</td>\n",
              "      <td>0.34432</td>\n",
              "      <td>0.85443</td>\n",
              "      <td>0.0</td>\n",
              "      <td>0.56409</td>\n",
              "    </tr>\n",
              "    <tr>\n",
              "      <th>V14</th>\n",
              "      <td>-0.44945</td>\n",
              "      <td>-0.69707</td>\n",
              "      <td>0.00827</td>\n",
              "      <td>0.0</td>\n",
              "      <td>-0.00712</td>\n",
              "    </tr>\n",
              "    <tr>\n",
              "      <th>V15</th>\n",
              "      <td>0.60536</td>\n",
              "      <td>-0.51685</td>\n",
              "      <td>0.54591</td>\n",
              "      <td>-1.0</td>\n",
              "      <td>0.34395</td>\n",
              "    </tr>\n",
              "    <tr>\n",
              "      <th>V16</th>\n",
              "      <td>-0.38223</td>\n",
              "      <td>-0.97515</td>\n",
              "      <td>0.00299</td>\n",
              "      <td>0.14516</td>\n",
              "      <td>-0.27457</td>\n",
              "    </tr>\n",
              "    <tr>\n",
              "      <th>V17</th>\n",
              "      <td>0.84356</td>\n",
              "      <td>0.05499</td>\n",
              "      <td>0.83775</td>\n",
              "      <td>0.54094</td>\n",
              "      <td>0.5294</td>\n",
              "    </tr>\n",
              "    <tr>\n",
              "      <th>V18</th>\n",
              "      <td>-0.38542</td>\n",
              "      <td>-0.62237</td>\n",
              "      <td>-0.13644</td>\n",
              "      <td>-0.3933</td>\n",
              "      <td>-0.2178</td>\n",
              "    </tr>\n",
              "    <tr>\n",
              "      <th>V19</th>\n",
              "      <td>0.58212</td>\n",
              "      <td>0.33109</td>\n",
              "      <td>0.75535</td>\n",
              "      <td>-1.0</td>\n",
              "      <td>0.45107</td>\n",
              "    </tr>\n",
              "    <tr>\n",
              "      <th>V20</th>\n",
              "      <td>-0.32192</td>\n",
              "      <td>-1.0</td>\n",
              "      <td>-0.0854</td>\n",
              "      <td>-0.54467</td>\n",
              "      <td>-0.17813</td>\n",
              "    </tr>\n",
              "    <tr>\n",
              "      <th>V21</th>\n",
              "      <td>0.56971</td>\n",
              "      <td>-0.13151</td>\n",
              "      <td>0.70887</td>\n",
              "      <td>-0.69975</td>\n",
              "      <td>0.05982</td>\n",
              "    </tr>\n",
              "    <tr>\n",
              "      <th>V22</th>\n",
              "      <td>-0.29674</td>\n",
              "      <td>-0.453</td>\n",
              "      <td>-0.27502</td>\n",
              "      <td>1.0</td>\n",
              "      <td>-0.35575</td>\n",
              "    </tr>\n",
              "    <tr>\n",
              "      <th>V23</th>\n",
              "      <td>0.36946</td>\n",
              "      <td>-0.18056</td>\n",
              "      <td>0.43385</td>\n",
              "      <td>0.0</td>\n",
              "      <td>0.02309</td>\n",
              "    </tr>\n",
              "    <tr>\n",
              "      <th>V24</th>\n",
              "      <td>-0.47357</td>\n",
              "      <td>-0.35734</td>\n",
              "      <td>-0.12062</td>\n",
              "      <td>0.0</td>\n",
              "      <td>-0.52879</td>\n",
              "    </tr>\n",
              "    <tr>\n",
              "      <th>V25</th>\n",
              "      <td>0.56811</td>\n",
              "      <td>-0.20332</td>\n",
              "      <td>0.57528</td>\n",
              "      <td>1.0</td>\n",
              "      <td>0.03286</td>\n",
              "    </tr>\n",
              "    <tr>\n",
              "      <th>V26</th>\n",
              "      <td>-0.51171</td>\n",
              "      <td>-0.26569</td>\n",
              "      <td>-0.4022</td>\n",
              "      <td>0.90695</td>\n",
              "      <td>-0.65158</td>\n",
              "    </tr>\n",
              "    <tr>\n",
              "      <th>V27</th>\n",
              "      <td>0.41078</td>\n",
              "      <td>-0.20468</td>\n",
              "      <td>0.58984</td>\n",
              "      <td>0.51613</td>\n",
              "      <td>0.1329</td>\n",
              "    </tr>\n",
              "    <tr>\n",
              "      <th>V28</th>\n",
              "      <td>-0.46168</td>\n",
              "      <td>-0.18401</td>\n",
              "      <td>-0.22145</td>\n",
              "      <td>1.0</td>\n",
              "      <td>-0.53206</td>\n",
              "    </tr>\n",
              "    <tr>\n",
              "      <th>V29</th>\n",
              "      <td>0.21266</td>\n",
              "      <td>-0.1904</td>\n",
              "      <td>0.431</td>\n",
              "      <td>1.0</td>\n",
              "      <td>0.02431</td>\n",
              "    </tr>\n",
              "    <tr>\n",
              "      <th>V30</th>\n",
              "      <td>-0.3409</td>\n",
              "      <td>-0.11593</td>\n",
              "      <td>-0.17365</td>\n",
              "      <td>-0.20099</td>\n",
              "      <td>-0.62197</td>\n",
              "    </tr>\n",
              "    <tr>\n",
              "      <th>V31</th>\n",
              "      <td>0.42267</td>\n",
              "      <td>-0.16626</td>\n",
              "      <td>0.60436</td>\n",
              "      <td>0.25682</td>\n",
              "      <td>-0.05707</td>\n",
              "    </tr>\n",
              "    <tr>\n",
              "      <th>V32</th>\n",
              "      <td>-0.54487</td>\n",
              "      <td>-0.06288</td>\n",
              "      <td>-0.2418</td>\n",
              "      <td>1.0</td>\n",
              "      <td>-0.59573</td>\n",
              "    </tr>\n",
              "    <tr>\n",
              "      <th>V33</th>\n",
              "      <td>0.18641</td>\n",
              "      <td>-0.13738</td>\n",
              "      <td>0.56045</td>\n",
              "      <td>-0.32382</td>\n",
              "      <td>-0.04608</td>\n",
              "    </tr>\n",
              "    <tr>\n",
              "      <th>V34</th>\n",
              "      <td>-0.453</td>\n",
              "      <td>-0.02447</td>\n",
              "      <td>-0.38238</td>\n",
              "      <td>1.0</td>\n",
              "      <td>-0.65697</td>\n",
              "    </tr>\n",
              "    <tr>\n",
              "      <th>Class</th>\n",
              "      <td>good</td>\n",
              "      <td>bad</td>\n",
              "      <td>good</td>\n",
              "      <td>bad</td>\n",
              "      <td>good</td>\n",
              "    </tr>\n",
              "  </tbody>\n",
              "</table>\n",
              "</div>\n",
              "      <button class=\"colab-df-convert\" onclick=\"convertToInteractive('df-d66063cf-5dab-48e7-a315-718ef720cf5d')\"\n",
              "              title=\"Convert this dataframe to an interactive table.\"\n",
              "              style=\"display:none;\">\n",
              "        \n",
              "  <svg xmlns=\"http://www.w3.org/2000/svg\" height=\"24px\"viewBox=\"0 0 24 24\"\n",
              "       width=\"24px\">\n",
              "    <path d=\"M0 0h24v24H0V0z\" fill=\"none\"/>\n",
              "    <path d=\"M18.56 5.44l.94 2.06.94-2.06 2.06-.94-2.06-.94-.94-2.06-.94 2.06-2.06.94zm-11 1L8.5 8.5l.94-2.06 2.06-.94-2.06-.94L8.5 2.5l-.94 2.06-2.06.94zm10 10l.94 2.06.94-2.06 2.06-.94-2.06-.94-.94-2.06-.94 2.06-2.06.94z\"/><path d=\"M17.41 7.96l-1.37-1.37c-.4-.4-.92-.59-1.43-.59-.52 0-1.04.2-1.43.59L10.3 9.45l-7.72 7.72c-.78.78-.78 2.05 0 2.83L4 21.41c.39.39.9.59 1.41.59.51 0 1.02-.2 1.41-.59l7.78-7.78 2.81-2.81c.8-.78.8-2.07 0-2.86zM5.41 20L4 18.59l7.72-7.72 1.47 1.35L5.41 20z\"/>\n",
              "  </svg>\n",
              "      </button>\n",
              "      \n",
              "  <style>\n",
              "    .colab-df-container {\n",
              "      display:flex;\n",
              "      flex-wrap:wrap;\n",
              "      gap: 12px;\n",
              "    }\n",
              "\n",
              "    .colab-df-convert {\n",
              "      background-color: #E8F0FE;\n",
              "      border: none;\n",
              "      border-radius: 50%;\n",
              "      cursor: pointer;\n",
              "      display: none;\n",
              "      fill: #1967D2;\n",
              "      height: 32px;\n",
              "      padding: 0 0 0 0;\n",
              "      width: 32px;\n",
              "    }\n",
              "\n",
              "    .colab-df-convert:hover {\n",
              "      background-color: #E2EBFA;\n",
              "      box-shadow: 0px 1px 2px rgba(60, 64, 67, 0.3), 0px 1px 3px 1px rgba(60, 64, 67, 0.15);\n",
              "      fill: #174EA6;\n",
              "    }\n",
              "\n",
              "    [theme=dark] .colab-df-convert {\n",
              "      background-color: #3B4455;\n",
              "      fill: #D2E3FC;\n",
              "    }\n",
              "\n",
              "    [theme=dark] .colab-df-convert:hover {\n",
              "      background-color: #434B5C;\n",
              "      box-shadow: 0px 1px 3px 1px rgba(0, 0, 0, 0.15);\n",
              "      filter: drop-shadow(0px 1px 2px rgba(0, 0, 0, 0.3));\n",
              "      fill: #FFFFFF;\n",
              "    }\n",
              "  </style>\n",
              "\n",
              "      <script>\n",
              "        const buttonEl =\n",
              "          document.querySelector('#df-d66063cf-5dab-48e7-a315-718ef720cf5d button.colab-df-convert');\n",
              "        buttonEl.style.display =\n",
              "          google.colab.kernel.accessAllowed ? 'block' : 'none';\n",
              "\n",
              "        async function convertToInteractive(key) {\n",
              "          const element = document.querySelector('#df-d66063cf-5dab-48e7-a315-718ef720cf5d');\n",
              "          const dataTable =\n",
              "            await google.colab.kernel.invokeFunction('convertToInteractive',\n",
              "                                                     [key], {});\n",
              "          if (!dataTable) return;\n",
              "\n",
              "          const docLinkHtml = 'Like what you see? Visit the ' +\n",
              "            '<a target=\"_blank\" href=https://colab.research.google.com/notebooks/data_table.ipynb>data table notebook</a>'\n",
              "            + ' to learn more about interactive tables.';\n",
              "          element.innerHTML = '';\n",
              "          dataTable['output_type'] = 'display_data';\n",
              "          await google.colab.output.renderOutput(dataTable, element);\n",
              "          const docLink = document.createElement('div');\n",
              "          docLink.innerHTML = docLinkHtml;\n",
              "          element.appendChild(docLink);\n",
              "        }\n",
              "      </script>\n",
              "    </div>\n",
              "  </div>\n",
              "  "
            ]
          },
          "metadata": {},
          "execution_count": 99
        }
      ],
      "source": [
        "df.head().T"
      ]
    },
    {
      "cell_type": "markdown",
      "metadata": {
        "id": "4YkpInk2r6u6"
      },
      "source": [
        "Como se puede apreciar el nombre de las columnas o features no es muy descriptivo, sin embargo, podemos ver que la última columna class está clasificando de manera binaria."
      ]
    },
    {
      "cell_type": "code",
      "execution_count": 100,
      "metadata": {
        "id": "6wPr-EDmsmMx"
      },
      "outputs": [],
      "source": [
        "df['Class'] = df['Class'].map({'good': 0, 'bad': 1})"
      ]
    },
    {
      "cell_type": "code",
      "execution_count": 101,
      "metadata": {
        "id": "HMWryxVAs1ZK"
      },
      "outputs": [],
      "source": [
        "df.dropna(axis=1, inplace=True)\n",
        "df.drop(['Unnamed: 0'], axis=1,inplace=True)"
      ]
    },
    {
      "cell_type": "code",
      "execution_count": 102,
      "metadata": {
        "id": "1TvUpyuFtTJ4"
      },
      "outputs": [],
      "source": [
        "y=df['Class']\n",
        "df.drop(['Class'], axis=1,inplace=True)\n",
        "X=df"
      ]
    },
    {
      "cell_type": "code",
      "execution_count": 103,
      "metadata": {
        "id": "Ryj8FiPUxSQp"
      },
      "outputs": [],
      "source": [
        "X_train, X_test, y_train, y_test = train_test_split(X, y, test_size=0.2, random_state=42)"
      ]
    },
    {
      "cell_type": "markdown",
      "metadata": {
        "id": "KeOjfQwmyFYs"
      },
      "source": [
        "Se va a utilizar el método Random Forest, sin embargo , cabe destacar que se escogió al azar debido a que en este trabajo nos centraremos en las métricas"
      ]
    },
    {
      "cell_type": "code",
      "execution_count": 104,
      "metadata": {
        "colab": {
          "base_uri": "https://localhost:8080/"
        },
        "id": "BJsK7GooyXdg",
        "outputId": "3e91d761-6369-4b34-93a1-4947687dda05"
      },
      "outputs": [
        {
          "output_type": "execute_result",
          "data": {
            "text/plain": [
              "array([0.18, 0.  , 0.  , 0.1 , 0.01, 0.02, 0.22, 0.03, 0.02, 0.02, 0.85,\n",
              "       0.9 , 1.  , 0.56, 0.09, 0.14, 0.07, 0.84, 0.02, 0.8 , 0.02, 0.95,\n",
              "       1.  , 0.05, 0.05, 0.73, 0.89, 0.95, 0.78, 0.05, 0.07, 0.01, 0.  ,\n",
              "       0.23, 0.01, 0.89, 0.17, 0.1 , 0.95, 0.01, 0.02, 0.  , 0.23, 0.96,\n",
              "       0.1 , 0.93, 0.85, 0.  , 0.8 , 0.01, 0.04, 0.57, 0.97, 0.56, 0.9 ,\n",
              "       0.07, 0.  , 0.  , 0.01, 0.75, 0.81, 0.31, 0.67, 0.  , 0.01, 0.08,\n",
              "       0.12, 0.01, 0.21, 0.16, 0.82])"
            ]
          },
          "metadata": {},
          "execution_count": 104
        }
      ],
      "source": [
        "Random_Forest= RandomForestClassifier()\n",
        "Random_Forest.fit(X_train,y_train)\n",
        "y_predict= Random_Forest.predict_proba(X_test)[:, 1]# Se utiliza predict_proba porque eso es lo que requiere para las curvas en sus paramentros\n",
        "y_predict\n"
      ]
    },
    {
      "cell_type": "markdown",
      "metadata": {
        "id": "DS0KIhN0smgI"
      },
      "source": [
        "### precision_recall_curve\n",
        "\n",
        "La precisión es la relación $\\frac{tp}{ (tp + fp)}$ donde **tp** es el número de verdaderos positivos y **fp** el número de falsos positivos. \n",
        "\n",
        "El recall o sensibilidad es la relación $ \\frac{tp} { (tp + fn)}$ donde **tp** es el número de verdaderos positivos y **fn** el número de falsos negativos. \n",
        "\n"
      ]
    },
    {
      "cell_type": "code",
      "execution_count": 105,
      "metadata": {
        "colab": {
          "base_uri": "https://localhost:8080/",
          "height": 516
        },
        "id": "WneYAfgo2Q80",
        "outputId": "efe09e65-6fea-4ff8-fd3d-a89c1d074095"
      },
      "outputs": [
        {
          "output_type": "stream",
          "name": "stdout",
          "text": [
            "precision:  [0.71794872 0.75       0.77142857 0.76470588 0.78787879 0.8125\n",
            " 0.83870968 0.86666667 0.89655172 0.96296296 0.96153846 1.\n",
            " 1.         1.         1.         1.         1.         1.\n",
            " 1.         1.         1.         1.         1.         1.\n",
            " 1.         1.         1.         1.         1.        ]\n",
            "recall :  [1.         0.96428571 0.96428571 0.92857143 0.92857143 0.92857143\n",
            " 0.92857143 0.92857143 0.92857143 0.92857143 0.89285714 0.85714286\n",
            " 0.82142857 0.78571429 0.75       0.71428571 0.67857143 0.60714286\n",
            " 0.57142857 0.53571429 0.5        0.42857143 0.35714286 0.28571429\n",
            " 0.25       0.14285714 0.10714286 0.07142857 0.        ]\n",
            "Umbrales :  [0.1  0.12 0.14 0.16 0.17 0.18 0.21 0.22 0.23 0.31 0.56 0.57 0.67 0.73\n",
            " 0.75 0.78 0.8  0.81 0.82 0.84 0.85 0.89 0.9  0.93 0.95 0.96 0.97 1.  ]\n"
          ]
        },
        {
          "output_type": "display_data",
          "data": {
            "text/plain": [
              "<Figure size 432x288 with 1 Axes>"
            ],
            "image/png": "[encoded data removed]"
          },
          "metadata": {
            "needs_background": "light"
          }
        }
      ],
      "source": [
        "precision, recall, thresholds = precision_recall_curve(y_test, y_predict)\n",
        "print(\"precision: \",precision)\n",
        "print (\"recall : \",recall)\n",
        "print (\"Umbrales : \",thresholds)\n",
        "\n",
        "fig, ax = plt.subplots()\n",
        "ax.plot(recall, precision, color='purple')\n",
        "\n",
        "#add axis labels to plot\n",
        "ax.set_title('Precision-Recall Curve')\n",
        "ax.set_ylabel('Precision')\n",
        "ax.set_xlabel('Recall')\n",
        "\n",
        "#display plot\n",
        "plt.show()"
      ]
    },
    {
      "cell_type": "markdown",
      "metadata": {
        "id": "qn08vKz05gAc"
      },
      "source": [
        "### roc_curve\n",
        "\n",
        "\n",
        "La curva ROC (receiver operating characteristic) es parecida a la curva Precision-Recall, pero cambiando algunos valores. Relaciona el recall con el radio de falsos positivos. Es decir relaciona la sensibilidad de nuestro modelo con los fallos optimistas (clasificar los negativos como positivos). Tiene sentido ya que, generalmente, si aumentamos el recall, nuestro modelo tenderá a ser más optimista e introducirá mas falsos positivos en la clasificación.\n",
        "\n"
      ]
    },
    {
      "cell_type": "code",
      "execution_count": 106,
      "metadata": {
        "id": "-WwUwgpO8wsU",
        "colab": {
          "base_uri": "https://localhost:8080/",
          "height": 427
        },
        "outputId": "9401a579-8225-4fc1-e633-4e4c4c41da1d"
      },
      "outputs": [
        {
          "output_type": "stream",
          "name": "stdout",
          "text": [
            "True Positive Rate [0.         0.07142857 0.14285714 0.25       0.28571429 0.5\n",
            " 0.60714286 0.67857143 0.85714286 0.89285714 0.92857143 0.92857143\n",
            " 0.92857143 0.96428571 0.96428571 1.         1.         1.\n",
            " 1.         1.         1.        ]\n",
            "False Positive Rate [0.         0.         0.         0.         0.         0.\n",
            " 0.         0.         0.         0.02325581 0.02325581 0.06976744\n",
            " 0.18604651 0.18604651 0.20930233 0.25581395 0.30232558 0.44186047\n",
            " 0.48837209 0.62790698 1.        ]\n"
          ]
        },
        {
          "output_type": "display_data",
          "data": {
            "text/plain": [
              "<Figure size 432x288 with 1 Axes>"
            ],
            "image/png": "[encoded data removed]"
          },
          "metadata": {
            "needs_background": "light"
          }
        }
      ],
      "source": [
        "fpr, tpr,thresholds= roc_curve(y_test, y_predict)\n",
        "print(\"True Positive Rate\",tpr)\n",
        "print(\"False Positive Rate\",fpr)\n",
        "\n",
        "\n",
        "plt.plot(fpr,tpr)\n",
        "plt.ylabel('True Positive Rate')\n",
        "plt.xlabel('False Positive Rate')\n",
        "plt.show()"
      ]
    },
    {
      "cell_type": "markdown",
      "metadata": {
        "id": "IOOTcv3g_uGa"
      },
      "source": [
        "### Det_curve\n",
        "\n",
        "es un gráfico de las tasas de error para los sistemas de clasificación binaria, que traza la tasa de rechazo falso frente a la tasa de aceptación falsa."
      ]
    },
    {
      "cell_type": "code",
      "execution_count": 107,
      "metadata": {
        "colab": {
          "base_uri": "https://localhost:8080/",
          "height": 353
        },
        "id": "q6UhL-bSCUzI",
        "outputId": "c4a265e0-b0c5-4a9a-e836-438bf3ce3111"
      },
      "outputs": [
        {
          "output_type": "stream",
          "name": "stdout",
          "text": [
            "False negative rate  [0.         0.03571429 0.03571429 0.07142857 0.07142857 0.07142857\n",
            " 0.07142857 0.07142857 0.07142857 0.07142857 0.10714286 0.14285714]\n",
            "False positive rate [0.25581395 0.20930233 0.18604651 0.18604651 0.1627907  0.13953488\n",
            " 0.11627907 0.09302326 0.06976744 0.02325581 0.02325581 0.        ]\n"
          ]
        },
        {
          "output_type": "display_data",
          "data": {
            "text/plain": [
              "<Figure size 432x288 with 1 Axes>"
            ],
            "image/png": "[encoded data removed]"
          },
          "metadata": {
            "needs_background": "light"
          }
        }
      ],
      "source": [
        "fpr, fnr,thresholds= det_curve(y_test, y_predict)\n",
        "print(\"False negative rate \",fnr)\n",
        "print(\"False positive rate\",fpr)\n",
        "\n",
        "\n",
        "plt.plot(fpr,fnr)\n",
        "plt.ylabel('False positive rate')\n",
        "plt.xlabel('False negative rate')\n",
        "plt.show()"
      ]
    },
    {
      "cell_type": "markdown",
      "metadata": {
        "id": "2D05dkcHJL2D"
      },
      "source": [
        "### f1_score\n",
        "El f1 score se puede interpretar como una media armónica de precisión y recuperación, donde una puntuación F1 alcanza su mejor valor en 1 y su peor puntuación en 0. La contribución relativa de precisión y recuperación a la puntuación F1 es igual. La fórmula para la puntuación F1 es:\n",
        "\n",
        "F1 = 2 * $\\frac{(precision * recall) } {(precision + recall)}$"
      ]
    },
    {
      "cell_type": "code",
      "execution_count": 108,
      "metadata": {
        "colab": {
          "base_uri": "https://localhost:8080/"
        },
        "id": "EwWTzqvTJKKf",
        "outputId": "373f034a-edbe-4134-a23e-63687aaeaa67"
      },
      "outputs": [
        {
          "output_type": "stream",
          "name": "stdout",
          "text": [
            "F1 Score:  0.9259259259259259\n"
          ]
        }
      ],
      "source": [
        "y_predict_= Random_Forest.predict(X_test)\n",
        "Score=f1_score(y_test, y_predict_,average='binary')\n",
        "print('F1 Score: ', Score)"
      ]
    },
    {
      "cell_type": "markdown",
      "metadata": {
        "id": "SLZYmuPKLVIw"
      },
      "source": [
        "### roc_auc_score\n",
        "Calcular el área bajo la curva característica operativa del receptor (ROC AUC) a partir de las puntuaciones de predicción.\n",
        "\n",
        "\n",
        "Tambien funciona para Multi clase y multi label"
      ]
    },
    {
      "cell_type": "code",
      "execution_count": 109,
      "metadata": {
        "id": "PplK39aNNArA",
        "colab": {
          "base_uri": "https://localhost:8080/"
        },
        "outputId": "22df277e-ae23-496a-927f-c07d9e58dbc1"
      },
      "outputs": [
        {
          "output_type": "stream",
          "name": "stdout",
          "text": [
            "ROC AUC Score:  0.9259259259259259\n"
          ]
        }
      ],
      "source": [
        "score= roc_auc_score(y_test, y_predict)\n",
        "print('ROC AUC Score: ', Score)"
      ]
    },
    {
      "cell_type": "markdown",
      "metadata": {
        "id": "XVOWkBKKZ7Yd"
      },
      "source": [
        "### balanced_accuracy_score\n",
        "En problemas de clasificación binaria y multiclase para tratar con conjuntos de datos desequilibrados. Se define como el promedio de recuerdo obtenido en cada clase.\n",
        "\n",
        "$balanced-accuracy = \\frac{1}{2}\\left( \\frac{TP}{TP + FN} + \\frac{TN}{TN + FP}\\right )$"
      ]
    },
    {
      "cell_type": "code",
      "execution_count": 110,
      "metadata": {
        "id": "DhRWwXl6aDTw",
        "colab": {
          "base_uri": "https://localhost:8080/"
        },
        "outputId": "a4d25c19-13e9-4f46-ceb7-f06d68ae9d20"
      },
      "outputs": [
        {
          "output_type": "stream",
          "name": "stdout",
          "text": [
            "balanced_accuracy_score:  0.9348006644518272\n"
          ]
        }
      ],
      "source": [
        "#y_predict= Random_Forest.predict(X_test)\n",
        "Score=balanced_accuracy_score(y_test,y_predict_)\n",
        "print('balanced_accuracy_score: ', Score)"
      ]
    },
    {
      "cell_type": "markdown",
      "metadata": {
        "id": "91sk8i8mGFSh"
      },
      "source": [
        "###average_precision_score\n",
        "\n",
        "Esta métrica calcula o resume una curva de precision-sensibilidad (precision-recall curve) como un promedio de las precisiones alcanzadas en cada umbral. Con el aumento en la sensibilidad desde el umbral anterior utilizado como peso\n",
        "\n",
        "$\\text{AP} = \\sum_n (R_n - R_{n-1}) P_n$\n",
        "\n",
        "Donde $R_n$  es el recall y $P_n$ la precision\n"
      ]
    },
    {
      "cell_type": "code",
      "execution_count": 111,
      "metadata": {
        "id": "zMJGIspJHIGV",
        "colab": {
          "base_uri": "https://localhost:8080/"
        },
        "outputId": "001aa08e-daf6-4042-f970-d6f561345150"
      },
      "outputs": [
        {
          "output_type": "stream",
          "name": "stdout",
          "text": [
            "average_precision_score:  0.9007700046432441\n"
          ]
        }
      ],
      "source": [
        "#y_predict= Random_Forest.predict(X_test)\n",
        "\n",
        "Score=average_precision_score(y_test,y_predict_)\n",
        "print('average_precision_score: ', Score)"
      ]
    },
    {
      "cell_type": "markdown",
      "metadata": {
        "id": "pOMZ-FOjEvS3"
      },
      "source": [
        "## Clasificación multi clase\n"
      ]
    },
    {
      "cell_type": "markdown",
      "source": [
        "Se carga el dataset\n"
      ],
      "metadata": {
        "id": "jcbTtBkOy8D0"
      }
    },
    {
      "cell_type": "code",
      "execution_count": 112,
      "metadata": {
        "id": "YO3M99H4Sw5r"
      },
      "outputs": [],
      "source": [
        "df=pd.read_csv('https://raw.githubusercontent.com/sebaszx/Tarea2Modulo2CienciasDatos-/main/fetal_health.csv')"
      ]
    },
    {
      "cell_type": "code",
      "execution_count": 113,
      "metadata": {
        "id": "w6ILfxM5Ucl4",
        "colab": {
          "base_uri": "https://localhost:8080/"
        },
        "outputId": "26a1c811-bab8-451f-e973-6642ae09b245"
      },
      "outputs": [
        {
          "output_type": "execute_result",
          "data": {
            "text/plain": [
              "(2126, 22)"
            ]
          },
          "metadata": {},
          "execution_count": 113
        }
      ],
      "source": [
        "df.shape"
      ]
    },
    {
      "cell_type": "code",
      "execution_count": 114,
      "metadata": {
        "id": "brddOHIbUUIB",
        "colab": {
          "base_uri": "https://localhost:8080/",
          "height": 505
        },
        "outputId": "b0cd2613-416d-4d51-ec99-a0200318e09e"
      },
      "outputs": [
        {
          "output_type": "execute_result",
          "data": {
            "text/plain": [
              "      baseline value  accelerations  fetal_movement  uterine_contractions  \\\n",
              "0              False          False           False                 False   \n",
              "1              False          False           False                 False   \n",
              "2              False          False           False                 False   \n",
              "3              False          False           False                 False   \n",
              "4              False          False           False                 False   \n",
              "...              ...            ...             ...                   ...   \n",
              "2121           False          False           False                 False   \n",
              "2122           False          False           False                 False   \n",
              "2123           False          False           False                 False   \n",
              "2124           False          False           False                 False   \n",
              "2125           False          False           False                 False   \n",
              "\n",
              "      light_decelerations  severe_decelerations  prolongued_decelerations  \\\n",
              "0                   False                 False                     False   \n",
              "1                   False                 False                     False   \n",
              "2                   False                 False                     False   \n",
              "3                   False                 False                     False   \n",
              "4                   False                 False                     False   \n",
              "...                   ...                   ...                       ...   \n",
              "2121                False                 False                     False   \n",
              "2122                False                 False                     False   \n",
              "2123                False                 False                     False   \n",
              "2124                False                 False                     False   \n",
              "2125                False                 False                     False   \n",
              "\n",
              "      abnormal_short_term_variability  mean_value_of_short_term_variability  \\\n",
              "0                               False                                 False   \n",
              "1                               False                                 False   \n",
              "2                               False                                 False   \n",
              "3                               False                                 False   \n",
              "4                               False                                 False   \n",
              "...                               ...                                   ...   \n",
              "2121                            False                                 False   \n",
              "2122                            False                                 False   \n",
              "2123                            False                                 False   \n",
              "2124                            False                                 False   \n",
              "2125                            False                                 False   \n",
              "\n",
              "      percentage_of_time_with_abnormal_long_term_variability  ...  \\\n",
              "0                                                 False       ...   \n",
              "1                                                 False       ...   \n",
              "2                                                 False       ...   \n",
              "3                                                 False       ...   \n",
              "4                                                 False       ...   \n",
              "...                                                 ...       ...   \n",
              "2121                                              False       ...   \n",
              "2122                                              False       ...   \n",
              "2123                                              False       ...   \n",
              "2124                                              False       ...   \n",
              "2125                                              False       ...   \n",
              "\n",
              "      histogram_min  histogram_max  histogram_number_of_peaks  \\\n",
              "0             False          False                      False   \n",
              "1             False          False                      False   \n",
              "2             False          False                      False   \n",
              "3             False          False                      False   \n",
              "4             False          False                      False   \n",
              "...             ...            ...                        ...   \n",
              "2121          False          False                      False   \n",
              "2122          False          False                      False   \n",
              "2123          False          False                      False   \n",
              "2124          False          False                      False   \n",
              "2125          False          False                      False   \n",
              "\n",
              "      histogram_number_of_zeroes  histogram_mode  histogram_mean  \\\n",
              "0                          False           False           False   \n",
              "1                          False           False           False   \n",
              "2                          False           False           False   \n",
              "3                          False           False           False   \n",
              "4                          False           False           False   \n",
              "...                          ...             ...             ...   \n",
              "2121                       False           False           False   \n",
              "2122                       False           False           False   \n",
              "2123                       False           False           False   \n",
              "2124                       False           False           False   \n",
              "2125                       False           False           False   \n",
              "\n",
              "      histogram_median  histogram_variance  histogram_tendency  fetal_health  \n",
              "0                False               False               False         False  \n",
              "1                False               False               False         False  \n",
              "2                False               False               False         False  \n",
              "3                False               False               False         False  \n",
              "4                False               False               False         False  \n",
              "...                ...                 ...                 ...           ...  \n",
              "2121             False               False               False         False  \n",
              "2122             False               False               False         False  \n",
              "2123             False               False               False         False  \n",
              "2124             False               False               False         False  \n",
              "2125             False               False               False         False  \n",
              "\n",
              "[2126 rows x 22 columns]"
            ],
            "text/html": [
              "\n",
              "  <div id=\"df-3cfee1b9-527e-41b5-a8ab-e40354306bc8\">\n",
              "    <div class=\"colab-df-container\">\n",
              "      <div>\n",
              "<style scoped>\n",
              "    .dataframe tbody tr th:only-of-type {\n",
              "        vertical-align: middle;\n",
              "    }\n",
              "\n",
              "    .dataframe tbody tr th {\n",
              "        vertical-align: top;\n",
              "    }\n",
              "\n",
              "    .dataframe thead th {\n",
              "        text-align: right;\n",
              "    }\n",
              "</style>\n",
              "<table border=\"1\" class=\"dataframe\">\n",
              "  <thead>\n",
              "    <tr style=\"text-align: right;\">\n",
              "      <th></th>\n",
              "      <th>baseline value</th>\n",
              "      <th>accelerations</th>\n",
              "      <th>fetal_movement</th>\n",
              "      <th>uterine_contractions</th>\n",
              "      <th>light_decelerations</th>\n",
              "      <th>severe_decelerations</th>\n",
              "      <th>prolongued_decelerations</th>\n",
              "      <th>abnormal_short_term_variability</th>\n",
              "      <th>mean_value_of_short_term_variability</th>\n",
              "      <th>percentage_of_time_with_abnormal_long_term_variability</th>\n",
              "      <th>...</th>\n",
              "      <th>histogram_min</th>\n",
              "      <th>histogram_max</th>\n",
              "      <th>histogram_number_of_peaks</th>\n",
              "      <th>histogram_number_of_zeroes</th>\n",
              "      <th>histogram_mode</th>\n",
              "      <th>histogram_mean</th>\n",
              "      <th>histogram_median</th>\n",
              "      <th>histogram_variance</th>\n",
              "      <th>histogram_tendency</th>\n",
              "      <th>fetal_health</th>\n",
              "    </tr>\n",
              "  </thead>\n",
              "  <tbody>\n",
              "    <tr>\n",
              "      <th>0</th>\n",
              "      <td>False</td>\n",
              "      <td>False</td>\n",
              "      <td>False</td>\n",
              "      <td>False</td>\n",
              "      <td>False</td>\n",
              "      <td>False</td>\n",
              "      <td>False</td>\n",
              "      <td>False</td>\n",
              "      <td>False</td>\n",
              "      <td>False</td>\n",
              "      <td>...</td>\n",
              "      <td>False</td>\n",
              "      <td>False</td>\n",
              "      <td>False</td>\n",
              "      <td>False</td>\n",
              "      <td>False</td>\n",
              "      <td>False</td>\n",
              "      <td>False</td>\n",
              "      <td>False</td>\n",
              "      <td>False</td>\n",
              "      <td>False</td>\n",
              "    </tr>\n",
              "    <tr>\n",
              "      <th>1</th>\n",
              "      <td>False</td>\n",
              "      <td>False</td>\n",
              "      <td>False</td>\n",
              "      <td>False</td>\n",
              "      <td>False</td>\n",
              "      <td>False</td>\n",
              "      <td>False</td>\n",
              "      <td>False</td>\n",
              "      <td>False</td>\n",
              "      <td>False</td>\n",
              "      <td>...</td>\n",
              "      <td>False</td>\n",
              "      <td>False</td>\n",
              "      <td>False</td>\n",
              "      <td>False</td>\n",
              "      <td>False</td>\n",
              "      <td>False</td>\n",
              "      <td>False</td>\n",
              "      <td>False</td>\n",
              "      <td>False</td>\n",
              "      <td>False</td>\n",
              "    </tr>\n",
              "    <tr>\n",
              "      <th>2</th>\n",
              "      <td>False</td>\n",
              "      <td>False</td>\n",
              "      <td>False</td>\n",
              "      <td>False</td>\n",
              "      <td>False</td>\n",
              "      <td>False</td>\n",
              "      <td>False</td>\n",
              "      <td>False</td>\n",
              "      <td>False</td>\n",
              "      <td>False</td>\n",
              "      <td>...</td>\n",
              "      <td>False</td>\n",
              "      <td>False</td>\n",
              "      <td>False</td>\n",
              "      <td>False</td>\n",
              "      <td>False</td>\n",
              "      <td>False</td>\n",
              "      <td>False</td>\n",
              "      <td>False</td>\n",
              "      <td>False</td>\n",
              "      <td>False</td>\n",
              "    </tr>\n",
              "    <tr>\n",
              "      <th>3</th>\n",
              "      <td>False</td>\n",
              "      <td>False</td>\n",
              "      <td>False</td>\n",
              "      <td>False</td>\n",
              "      <td>False</td>\n",
              "      <td>False</td>\n",
              "      <td>False</td>\n",
              "      <td>False</td>\n",
              "      <td>False</td>\n",
              "      <td>False</td>\n",
              "      <td>...</td>\n",
              "      <td>False</td>\n",
              "      <td>False</td>\n",
              "      <td>False</td>\n",
              "      <td>False</td>\n",
              "      <td>False</td>\n",
              "      <td>False</td>\n",
              "      <td>False</td>\n",
              "      <td>False</td>\n",
              "      <td>False</td>\n",
              "      <td>False</td>\n",
              "    </tr>\n",
              "    <tr>\n",
              "      <th>4</th>\n",
              "      <td>False</td>\n",
              "      <td>False</td>\n",
              "      <td>False</td>\n",
              "      <td>False</td>\n",
              "      <td>False</td>\n",
              "      <td>False</td>\n",
              "      <td>False</td>\n",
              "      <td>False</td>\n",
              "      <td>False</td>\n",
              "      <td>False</td>\n",
              "      <td>...</td>\n",
              "      <td>False</td>\n",
              "      <td>False</td>\n",
              "      <td>False</td>\n",
              "      <td>False</td>\n",
              "      <td>False</td>\n",
              "      <td>False</td>\n",
              "      <td>False</td>\n",
              "      <td>False</td>\n",
              "      <td>False</td>\n",
              "      <td>False</td>\n",
              "    </tr>\n",
              "    <tr>\n",
              "      <th>...</th>\n",
              "      <td>...</td>\n",
              "      <td>...</td>\n",
              "      <td>...</td>\n",
              "      <td>...</td>\n",
              "      <td>...</td>\n",
              "      <td>...</td>\n",
              "      <td>...</td>\n",
              "      <td>...</td>\n",
              "      <td>...</td>\n",
              "      <td>...</td>\n",
              "      <td>...</td>\n",
              "      <td>...</td>\n",
              "      <td>...</td>\n",
              "      <td>...</td>\n",
              "      <td>...</td>\n",
              "      <td>...</td>\n",
              "      <td>...</td>\n",
              "      <td>...</td>\n",
              "      <td>...</td>\n",
              "      <td>...</td>\n",
              "      <td>...</td>\n",
              "    </tr>\n",
              "    <tr>\n",
              "      <th>2121</th>\n",
              "      <td>False</td>\n",
              "      <td>False</td>\n",
              "      <td>False</td>\n",
              "      <td>False</td>\n",
              "      <td>False</td>\n",
              "      <td>False</td>\n",
              "      <td>False</td>\n",
              "      <td>False</td>\n",
              "      <td>False</td>\n",
              "      <td>False</td>\n",
              "      <td>...</td>\n",
              "      <td>False</td>\n",
              "      <td>False</td>\n",
              "      <td>False</td>\n",
              "      <td>False</td>\n",
              "      <td>False</td>\n",
              "      <td>False</td>\n",
              "      <td>False</td>\n",
              "      <td>False</td>\n",
              "      <td>False</td>\n",
              "      <td>False</td>\n",
              "    </tr>\n",
              "    <tr>\n",
              "      <th>2122</th>\n",
              "      <td>False</td>\n",
              "      <td>False</td>\n",
              "      <td>False</td>\n",
              "      <td>False</td>\n",
              "      <td>False</td>\n",
              "      <td>False</td>\n",
              "      <td>False</td>\n",
              "      <td>False</td>\n",
              "      <td>False</td>\n",
              "      <td>False</td>\n",
              "      <td>...</td>\n",
              "      <td>False</td>\n",
              "      <td>False</td>\n",
              "      <td>False</td>\n",
              "      <td>False</td>\n",
              "      <td>False</td>\n",
              "      <td>False</td>\n",
              "      <td>False</td>\n",
              "      <td>False</td>\n",
              "      <td>False</td>\n",
              "      <td>False</td>\n",
              "    </tr>\n",
              "    <tr>\n",
              "      <th>2123</th>\n",
              "      <td>False</td>\n",
              "      <td>False</td>\n",
              "      <td>False</td>\n",
              "      <td>False</td>\n",
              "      <td>False</td>\n",
              "      <td>False</td>\n",
              "      <td>False</td>\n",
              "      <td>False</td>\n",
              "      <td>False</td>\n",
              "      <td>False</td>\n",
              "      <td>...</td>\n",
              "      <td>False</td>\n",
              "      <td>False</td>\n",
              "      <td>False</td>\n",
              "      <td>False</td>\n",
              "      <td>False</td>\n",
              "      <td>False</td>\n",
              "      <td>False</td>\n",
              "      <td>False</td>\n",
              "      <td>False</td>\n",
              "      <td>False</td>\n",
              "    </tr>\n",
              "    <tr>\n",
              "      <th>2124</th>\n",
              "      <td>False</td>\n",
              "      <td>False</td>\n",
              "      <td>False</td>\n",
              "      <td>False</td>\n",
              "      <td>False</td>\n",
              "      <td>False</td>\n",
              "      <td>False</td>\n",
              "      <td>False</td>\n",
              "      <td>False</td>\n",
              "      <td>False</td>\n",
              "      <td>...</td>\n",
              "      <td>False</td>\n",
              "      <td>False</td>\n",
              "      <td>False</td>\n",
              "      <td>False</td>\n",
              "      <td>False</td>\n",
              "      <td>False</td>\n",
              "      <td>False</td>\n",
              "      <td>False</td>\n",
              "      <td>False</td>\n",
              "      <td>False</td>\n",
              "    </tr>\n",
              "    <tr>\n",
              "      <th>2125</th>\n",
              "      <td>False</td>\n",
              "      <td>False</td>\n",
              "      <td>False</td>\n",
              "      <td>False</td>\n",
              "      <td>False</td>\n",
              "      <td>False</td>\n",
              "      <td>False</td>\n",
              "      <td>False</td>\n",
              "      <td>False</td>\n",
              "      <td>False</td>\n",
              "      <td>...</td>\n",
              "      <td>False</td>\n",
              "      <td>False</td>\n",
              "      <td>False</td>\n",
              "      <td>False</td>\n",
              "      <td>False</td>\n",
              "      <td>False</td>\n",
              "      <td>False</td>\n",
              "      <td>False</td>\n",
              "      <td>False</td>\n",
              "      <td>False</td>\n",
              "    </tr>\n",
              "  </tbody>\n",
              "</table>\n",
              "<p>2126 rows × 22 columns</p>\n",
              "</div>\n",
              "      <button class=\"colab-df-convert\" onclick=\"convertToInteractive('df-3cfee1b9-527e-41b5-a8ab-e40354306bc8')\"\n",
              "              title=\"Convert this dataframe to an interactive table.\"\n",
              "              style=\"display:none;\">\n",
              "        \n",
              "  <svg xmlns=\"http://www.w3.org/2000/svg\" height=\"24px\"viewBox=\"0 0 24 24\"\n",
              "       width=\"24px\">\n",
              "    <path d=\"M0 0h24v24H0V0z\" fill=\"none\"/>\n",
              "    <path d=\"M18.56 5.44l.94 2.06.94-2.06 2.06-.94-2.06-.94-.94-2.06-.94 2.06-2.06.94zm-11 1L8.5 8.5l.94-2.06 2.06-.94-2.06-.94L8.5 2.5l-.94 2.06-2.06.94zm10 10l.94 2.06.94-2.06 2.06-.94-2.06-.94-.94-2.06-.94 2.06-2.06.94z\"/><path d=\"M17.41 7.96l-1.37-1.37c-.4-.4-.92-.59-1.43-.59-.52 0-1.04.2-1.43.59L10.3 9.45l-7.72 7.72c-.78.78-.78 2.05 0 2.83L4 21.41c.39.39.9.59 1.41.59.51 0 1.02-.2 1.41-.59l7.78-7.78 2.81-2.81c.8-.78.8-2.07 0-2.86zM5.41 20L4 18.59l7.72-7.72 1.47 1.35L5.41 20z\"/>\n",
              "  </svg>\n",
              "      </button>\n",
              "      \n",
              "  <style>\n",
              "    .colab-df-container {\n",
              "      display:flex;\n",
              "      flex-wrap:wrap;\n",
              "      gap: 12px;\n",
              "    }\n",
              "\n",
              "    .colab-df-convert {\n",
              "      background-color: #E8F0FE;\n",
              "      border: none;\n",
              "      border-radius: 50%;\n",
              "      cursor: pointer;\n",
              "      display: none;\n",
              "      fill: #1967D2;\n",
              "      height: 32px;\n",
              "      padding: 0 0 0 0;\n",
              "      width: 32px;\n",
              "    }\n",
              "\n",
              "    .colab-df-convert:hover {\n",
              "      background-color: #E2EBFA;\n",
              "      box-shadow: 0px 1px 2px rgba(60, 64, 67, 0.3), 0px 1px 3px 1px rgba(60, 64, 67, 0.15);\n",
              "      fill: #174EA6;\n",
              "    }\n",
              "\n",
              "    [theme=dark] .colab-df-convert {\n",
              "      background-color: #3B4455;\n",
              "      fill: #D2E3FC;\n",
              "    }\n",
              "\n",
              "    [theme=dark] .colab-df-convert:hover {\n",
              "      background-color: #434B5C;\n",
              "      box-shadow: 0px 1px 3px 1px rgba(0, 0, 0, 0.15);\n",
              "      filter: drop-shadow(0px 1px 2px rgba(0, 0, 0, 0.3));\n",
              "      fill: #FFFFFF;\n",
              "    }\n",
              "  </style>\n",
              "\n",
              "      <script>\n",
              "        const buttonEl =\n",
              "          document.querySelector('#df-3cfee1b9-527e-41b5-a8ab-e40354306bc8 button.colab-df-convert');\n",
              "        buttonEl.style.display =\n",
              "          google.colab.kernel.accessAllowed ? 'block' : 'none';\n",
              "\n",
              "        async function convertToInteractive(key) {\n",
              "          const element = document.querySelector('#df-3cfee1b9-527e-41b5-a8ab-e40354306bc8');\n",
              "          const dataTable =\n",
              "            await google.colab.kernel.invokeFunction('convertToInteractive',\n",
              "                                                     [key], {});\n",
              "          if (!dataTable) return;\n",
              "\n",
              "          const docLinkHtml = 'Like what you see? Visit the ' +\n",
              "            '<a target=\"_blank\" href=https://colab.research.google.com/notebooks/data_table.ipynb>data table notebook</a>'\n",
              "            + ' to learn more about interactive tables.';\n",
              "          element.innerHTML = '';\n",
              "          dataTable['output_type'] = 'display_data';\n",
              "          await google.colab.output.renderOutput(dataTable, element);\n",
              "          const docLink = document.createElement('div');\n",
              "          docLink.innerHTML = docLinkHtml;\n",
              "          element.appendChild(docLink);\n",
              "        }\n",
              "      </script>\n",
              "    </div>\n",
              "  </div>\n",
              "  "
            ]
          },
          "metadata": {},
          "execution_count": 114
        }
      ],
      "source": [
        "df.isna()"
      ]
    },
    {
      "cell_type": "code",
      "execution_count": 115,
      "metadata": {
        "id": "RTI_rf2cUf-h",
        "colab": {
          "base_uri": "https://localhost:8080/"
        },
        "outputId": "205e42e2-2df4-4264-f81d-5c2ce6c04704"
      },
      "outputs": [
        {
          "output_type": "execute_result",
          "data": {
            "text/plain": [
              "array([2., 1., 3.])"
            ]
          },
          "metadata": {},
          "execution_count": 115
        }
      ],
      "source": [
        "\n",
        "df.fetal_health.unique()"
      ]
    },
    {
      "cell_type": "markdown",
      "metadata": {
        "id": "p_IwXec7Vn7J"
      },
      "source": [
        "Se separan los features de las etiquetas. Como podemos observar en la celda anterior esta vez tenemos 3 clases."
      ]
    },
    {
      "cell_type": "code",
      "execution_count": 116,
      "metadata": {
        "id": "ybsCj1CpVOQo"
      },
      "outputs": [],
      "source": [
        "X = df.drop(['fetal_health'],axis=1)\n",
        "y = df['fetal_health']\n"
      ]
    },
    {
      "cell_type": "code",
      "execution_count": 117,
      "metadata": {
        "id": "1duN4u8NV1Tj"
      },
      "outputs": [],
      "source": [
        "X_train, X_test, y_train, y_test = train_test_split(X, y, test_size = 0.2, random_state = 10)"
      ]
    },
    {
      "cell_type": "code",
      "execution_count": 118,
      "metadata": {
        "id": "ZG2beVszWugD",
        "colab": {
          "base_uri": "https://localhost:8080/"
        },
        "outputId": "39e7e21d-674c-48fd-dd31-1623e74150a1"
      },
      "outputs": [
        {
          "output_type": "execute_result",
          "data": {
            "text/plain": [
              "array([0.18, 0.  , 0.  , 0.1 , 0.01, 0.02, 0.22, 0.03, 0.02, 0.02, 0.85,\n",
              "       0.9 , 1.  , 0.56, 0.09, 0.14, 0.07, 0.84, 0.02, 0.8 , 0.02, 0.95,\n",
              "       1.  , 0.05, 0.05, 0.73, 0.89, 0.95, 0.78, 0.05, 0.07, 0.01, 0.  ,\n",
              "       0.23, 0.01, 0.89, 0.17, 0.1 , 0.95, 0.01, 0.02, 0.  , 0.23, 0.96,\n",
              "       0.1 , 0.93, 0.85, 0.  , 0.8 , 0.01, 0.04, 0.57, 0.97, 0.56, 0.9 ,\n",
              "       0.07, 0.  , 0.  , 0.01, 0.75, 0.81, 0.31, 0.67, 0.  , 0.01, 0.08,\n",
              "       0.12, 0.01, 0.21, 0.16, 0.82])"
            ]
          },
          "metadata": {},
          "execution_count": 118
        }
      ],
      "source": [
        "Random_Forest= RandomForestClassifier()\n",
        "Random_Forest.fit(X_train,y_train)\n",
        "y_predict_multiclass= Random_Forest.predict(X_test)\n",
        "y_predict"
      ]
    },
    {
      "cell_type": "markdown",
      "metadata": {
        "id": "ufSyoZkUWmhk"
      },
      "source": [
        "###roc_auc_score multi class"
      ]
    },
    {
      "cell_type": "code",
      "execution_count": 119,
      "metadata": {
        "id": "wopyTIGGWsHf",
        "colab": {
          "base_uri": "https://localhost:8080/"
        },
        "outputId": "57b33061-b321-419a-adba-7fa9cee2fa6e"
      },
      "outputs": [
        {
          "output_type": "stream",
          "name": "stdout",
          "text": [
            "roc auc score:  0.9938298985240407\n"
          ]
        }
      ],
      "source": [
        "score=roc_auc_score(y_test, Random_Forest.predict_proba(X_test), multi_class='ovr')\n",
        "print('roc auc score: ',score)"
      ]
    },
    {
      "cell_type": "markdown",
      "metadata": {
        "id": "XhKfoKUqXlvY"
      },
      "source": [
        "### f1_score multi class"
      ]
    },
    {
      "cell_type": "code",
      "execution_count": 120,
      "metadata": {
        "id": "X3OlnjL7YCLe",
        "colab": {
          "base_uri": "https://localhost:8080/"
        },
        "outputId": "c756b80b-6ee1-4eb7-911c-01b3106147a5"
      },
      "outputs": [
        {
          "output_type": "stream",
          "name": "stdout",
          "text": [
            "F1 Score:  0.9615747626580703\n"
          ]
        }
      ],
      "source": [
        "y_predict= Random_Forest.predict(X_test)\n",
        "Score=f1_score(y_test, y_predict,average='weighted')\n",
        "print('F1 Score: ', Score)"
      ]
    },
    {
      "cell_type": "markdown",
      "metadata": {
        "id": "tJW9JBukZelV"
      },
      "source": [
        "### balanced_accuracy_score\n",
        "\n"
      ]
    },
    {
      "cell_type": "code",
      "execution_count": 121,
      "metadata": {
        "id": "KHmzPr8yZeCB",
        "colab": {
          "base_uri": "https://localhost:8080/"
        },
        "outputId": "768919c3-04f9-42ae-d5a3-e939db97aa32"
      },
      "outputs": [
        {
          "output_type": "stream",
          "name": "stdout",
          "text": [
            "balanced_accuracy_score:  0.9244282035406965\n"
          ]
        }
      ],
      "source": [
        "#y_predict= Random_Forest.predict(X_test)\n",
        "Score=balanced_accuracy_score(y_test, y_predict)\n",
        "print('balanced_accuracy_score: ', Score)"
      ]
    },
    {
      "cell_type": "markdown",
      "metadata": {
        "id": "jNXwBZLnavdR"
      },
      "source": [
        "### cohen_kappa_score\n",
        "Si hay N elementos que deben clasificarse en C categorías mutuamente excluyentes, el trabajo de kappa de Cohen es medir el acuerdo entre los dos evaluadores para clasificar N en C. Para calcular el coeficiente Kappa tomaremos la probabilidad de acuerdo menos la probabilidad de desacuerdo dividida por 1 menos la probabilidad de desacuerdo."
      ]
    },
    {
      "cell_type": "code",
      "execution_count": 122,
      "metadata": {
        "id": "RpVT2D1jcg9f",
        "colab": {
          "base_uri": "https://localhost:8080/"
        },
        "outputId": "90c2867e-f009-4d02-f408-d9d1a9aa74bc"
      },
      "outputs": [
        {
          "output_type": "stream",
          "name": "stdout",
          "text": [
            "cohen_kappa_score:  0.8907692307692308\n"
          ]
        }
      ],
      "source": [
        "\n",
        "Score=cohen_kappa_score(y_test, y_predict)\n",
        "print('cohen_kappa_score: ', Score)"
      ]
    },
    {
      "cell_type": "markdown",
      "metadata": {
        "id": "MhvvtyJvc-JC"
      },
      "source": [
        "###confusion_matrix\n",
        "\n",
        "Cada columna de la matriz representa el número de predicciones de cada clase, mientras que cada fila representa a las instancias en la clase real"
      ]
    },
    {
      "cell_type": "code",
      "execution_count": 123,
      "metadata": {
        "id": "7W9Srvh8dboo",
        "colab": {
          "base_uri": "https://localhost:8080/",
          "height": 410
        },
        "outputId": "2062a3e8-c8fd-4251-e77c-2d9aca10f28f"
      },
      "outputs": [
        {
          "output_type": "stream",
          "name": "stdout",
          "text": [
            "confusion_matrix:  [[332   3   1]\n",
            " [ 10  50   1]\n",
            " [  0   1  28]]\n"
          ]
        },
        {
          "output_type": "stream",
          "name": "stderr",
          "text": [
            "/usr/local/lib/python3.7/dist-packages/sklearn/utils/deprecation.py:87: FutureWarning: Function plot_confusion_matrix is deprecated; Function `plot_confusion_matrix` is deprecated in 1.0 and will be removed in 1.2. Use one of the class methods: ConfusionMatrixDisplay.from_predictions or ConfusionMatrixDisplay.from_estimator.\n",
            "  warnings.warn(msg, category=FutureWarning)\n"
          ]
        },
        {
          "output_type": "execute_result",
          "data": {
            "text/plain": [
              "<sklearn.metrics._plot.confusion_matrix.ConfusionMatrixDisplay at 0x7fd4cca6dc90>"
            ]
          },
          "metadata": {},
          "execution_count": 123
        },
        {
          "output_type": "display_data",
          "data": {
            "text/plain": [
              "<Figure size 432x288 with 2 Axes>"
            ],
            "image/png": "[encoded data removed]"
          },
          "metadata": {
            "needs_background": "light"
          }
        }
      ],
      "source": [
        "\n",
        "Score=confusion_matrix(y_test, y_predict)\n",
        "print('confusion_matrix: ', Score)\n",
        "plot_confusion_matrix(Random_Forest, X_test, y_test) "
      ]
    },
    {
      "cell_type": "markdown",
      "metadata": {
        "id": "Jc8tlpK9ezve"
      },
      "source": [
        "### Hinge_loss\n",
        "\n",
        "Hinge Loss es un tipo específico de función de costo que incorpora un margen o distancia desde el límite de clasificación en el cálculo del costo. Incluso si las nuevas observaciones se clasifican correctamente, pueden incurrir en una penalización si el margen del límite de decisión no es lo suficientemente grande. La pérdida de bisagra aumenta linealmente."
      ]
    },
    {
      "cell_type": "code",
      "execution_count": 124,
      "metadata": {
        "id": "kTmBN8gbe2QK",
        "colab": {
          "base_uri": "https://localhost:8080/"
        },
        "outputId": "741393c4-10ab-40c8-aa28-c07c5d831d6b"
      },
      "outputs": [
        {
          "output_type": "execute_result",
          "data": {
            "text/plain": [
              "0.5641115242969065"
            ]
          },
          "metadata": {},
          "execution_count": 124
        }
      ],
      "source": [
        "#Ejemplo tomado de SkLearn\n",
        "X1 = np.array([[0], [1], [2], [3]])\n",
        "Y1 = np.array([0, 1, 2, 3])\n",
        "labels = np.array([0, 1, 2, 3])\n",
        "est = svm.LinearSVC()\n",
        "est.fit(X1, Y1)\n",
        "pred_decision = est.decision_function([[-1], [2], [3]])\n",
        "y_true = [0, 2, 3]\n",
        "hinge_loss(y_true, pred_decision, labels=labels)"
      ]
    },
    {
      "cell_type": "markdown",
      "metadata": {
        "id": "FsVPn8b4id2z"
      },
      "source": [
        "### matthews_corrcoef\n",
        "\n",
        "La métrica de matthews_corrcoef es muy utilizada cuando nuestro set de datos se encuentra desbalanceado.\n",
        "\n",
        "El valor de MCC oscila entre -1 y 1, donde:\n",
        "* -1 indica que las predicciones fueron muy erroneas\n",
        "* 0 es sinónimo de predicciones completamente aleatorias\n",
        "* 1 indica que las predicciones fueron muy exactas\n",
        "\n",
        "MCC =$ \\frac{\n",
        "    c \\times s - \\sum_{k}^{K} p_k \\times t_k\n",
        "}{\\sqrt{\n",
        "    (s^2 - \\sum_{k}^{K} p_k^2) \\times\n",
        "    (s^2 - \\sum_{k}^{K} t_k^2)\n",
        "}}$"
      ]
    },
    {
      "cell_type": "code",
      "execution_count": 125,
      "metadata": {
        "id": "5kJHCc5VjMLd",
        "colab": {
          "base_uri": "https://localhost:8080/"
        },
        "outputId": "7b46a74f-6356-48e9-f8af-b552e70ef9f6"
      },
      "outputs": [
        {
          "output_type": "stream",
          "name": "stdout",
          "text": [
            "matthews_corrcoef:  0.8916998840557864\n"
          ]
        }
      ],
      "source": [
        "Score=matthews_corrcoef(y_test, y_predict)\n",
        "print('matthews_corrcoef: ', Score)"
      ]
    },
    {
      "cell_type": "markdown",
      "metadata": {
        "id": "QuLUnewHkbDD"
      },
      "source": [
        "###top_k_accuracy_score\n",
        "\n",
        "Esta métrica calcula la cantidad de veces que la etiqueta correcta se encuentra entre las k primeras etiquetas predichas \n",
        "\n",
        "$\\texttt{top-k accuracy}(y, \\hat{f}) = \\frac{1}{n_\\text{samples}} \\sum_{i=0}^{n_\\text{samples}-1} \\sum_{j=1}^{k} 1(\\hat{f}_{i,j} = y_i)$\n",
        "\n",
        "Donde  \n",
        "\n",
        "$\\hat{f}_{i,j} $ es la clase predicha para la -ésima muestra correspondiente a la -ésima puntuación pronosticada más grande y $y_i$\n",
        " es el valor verdadero correspondiente"
      ]
    },
    {
      "cell_type": "code",
      "execution_count": 126,
      "metadata": {
        "id": "3apa32jyl3ca",
        "colab": {
          "base_uri": "https://localhost:8080/"
        },
        "outputId": "08164907-9f17-42b2-a121-9352e16bef44"
      },
      "outputs": [
        {
          "output_type": "stream",
          "name": "stdout",
          "text": [
            "top_k_accuracy_score:  0.9976525821596244\n"
          ]
        }
      ],
      "source": [
        "Score=top_k_accuracy_score(y_test, Random_Forest.predict_proba(X_test), k=2, normalize=True)\n",
        "print('top_k_accuracy_score: ', Score)"
      ]
    },
    {
      "cell_type": "markdown",
      "metadata": {
        "id": "Jrjnbn3QkpZu"
      },
      "source": [
        "###accuracy_score\n",
        "Esta métrica describe cuantas predicciones fueron iguales al conjunto de labels para probar el modelo \n",
        "$\\texttt{accuracy}(y, \\hat{y}) = \\frac{1}{n_\\text{samples}} \\sum_{i=0}^{n_\\text{samples}-1} 1(\\hat{y}_i = y_i)$"
      ]
    },
    {
      "cell_type": "code",
      "execution_count": 127,
      "metadata": {
        "id": "rmfolMKBkxrs",
        "colab": {
          "base_uri": "https://localhost:8080/"
        },
        "outputId": "38ce3be4-07b3-47ed-c833-564a2d6b4ffe"
      },
      "outputs": [
        {
          "output_type": "stream",
          "name": "stdout",
          "text": [
            "accuracy_score:  0.9624413145539906\n"
          ]
        }
      ],
      "source": [
        "Score=accuracy_score(y_test, y_predict)\n",
        "print('accuracy_score: ', Score)"
      ]
    },
    {
      "cell_type": "markdown",
      "metadata": {
        "id": "HMG0WsF3lvov"
      },
      "source": [
        "###classification_report\n"
      ]
    },
    {
      "cell_type": "code",
      "execution_count": 128,
      "metadata": {
        "id": "9I4dCp-Rl-VN",
        "colab": {
          "base_uri": "https://localhost:8080/"
        },
        "outputId": "d023d21d-bb65-4223-b093-d850d850d921"
      },
      "outputs": [
        {
          "output_type": "stream",
          "name": "stdout",
          "text": [
            "classification_report: \n",
            "              precision    recall  f1-score   support\n",
            "\n",
            "     class 0       0.97      0.99      0.98       336\n",
            "     class 1       0.93      0.82      0.87        61\n",
            "     class 2       0.93      0.97      0.95        29\n",
            "\n",
            "    accuracy                           0.96       426\n",
            "   macro avg       0.94      0.92      0.93       426\n",
            "weighted avg       0.96      0.96      0.96       426\n",
            "\n"
          ]
        }
      ],
      "source": [
        "target_names = ['class 0', 'class 1', 'class 2']\n",
        "report=classification_report(y_test, y_predict,target_names=target_names)\n",
        "\n",
        "print('classification_report: ')\n",
        "print(report)"
      ]
    },
    {
      "cell_type": "markdown",
      "metadata": {
        "id": "m1_FjJutnkHR"
      },
      "source": [
        "###Hamming Loss\n",
        "\n",
        "Esta métrica lo que nos ayuda a calcular es la perdida o distancia entre dos conjuntos de datos. Entonces esta métrica cuenta las veces que la predicción es equivocada con respecto a las etiquetas reales.\n",
        "\n",
        "$L_{Hamming}(y, \\hat{y}) = \\frac{1}{n_\\text{labels}} \\sum_{j=0}^{n_\\text{labels} - 1} 1(\\hat{y}_j \\not= y_j)$\n"
      ]
    },
    {
      "cell_type": "code",
      "execution_count": 129,
      "metadata": {
        "id": "nx1QUe6BE9-7"
      },
      "outputs": [],
      "source": [
        "averages=['micro','macro','weighted']"
      ]
    },
    {
      "cell_type": "markdown",
      "metadata": {
        "id": "MMcws1bWFtlw"
      },
      "source": [
        "###fbeta_score\n",
        "\n",
        "Sigue siendo el mismo f1 score que vimos en la sección pasada, pero esta vez tenemos un hiper parámetro llamado beta. El parámetro beta determina el peso de la sensibilidad en el score combinado. beta < 1 da más peso a la precisión, mientras que beta > 1 favorece la recuperación (beta -> 0 considera solo precisión, beta -> +inf solo sensibilidad).\n",
        "\n",
        "\n",
        "\n"
      ]
    },
    {
      "cell_type": "code",
      "execution_count": 130,
      "metadata": {
        "id": "QJ-HClgYKLpu",
        "colab": {
          "base_uri": "https://localhost:8080/"
        },
        "outputId": "6be57c68-7e7d-4a69-ed88-ea27ce526052"
      },
      "outputs": [
        {
          "output_type": "stream",
          "name": "stdout",
          "text": [
            "fbeta_score with micro: 0.9624413145539906\n",
            "fbeta_score with macro: 0.938767598334795\n",
            "fbeta_score with weighted: 0.9615643601741118\n"
          ]
        }
      ],
      "source": [
        "txt = \"fbeta_score with {}:\"\n",
        "\n",
        "for i in averages:\n",
        "  Score=fbeta_score(y_test, y_predict,average=i,beta=0.5)\n",
        "  print(txt.format(i),Score)"
      ]
    },
    {
      "cell_type": "markdown",
      "metadata": {
        "id": "QWIRstnpMYes"
      },
      "source": [
        "###precision_recall_fscore_support\n",
        "Para esta métrica tenemos que recordar los conceptos de precisión, sensibilidad (recall) y f beta score que ya vimos. Lo que se aprecia como support o soporte es el número de ocurrencias de cada clase en las etiquetas reales"
      ]
    },
    {
      "cell_type": "code",
      "execution_count": 131,
      "metadata": {
        "id": "9b9DJfi0PafX",
        "colab": {
          "base_uri": "https://localhost:8080/"
        },
        "outputId": "a1e80955-7a4e-45dd-e76b-97b5a4a6475d"
      },
      "outputs": [
        {
          "output_type": "stream",
          "name": "stdout",
          "text": [
            "precision_recall_fscore_support with micro: (0.9624413145539906, 0.9624413145539906, 0.9624413145539906, None)\n",
            "precision_recall_fscore_support with macro: (0.9433398310591293, 0.9244282035406965, 0.938767598334795, None)\n",
            "precision_recall_fscore_support with weighted: (0.9617924571470408, 0.9624413145539906, 0.9615643601741118, None)\n",
            "precision_recall_fscore_support with None: (array([0.97076023, 0.92592593, 0.93333333]), array([0.98809524, 0.81967213, 0.96551724]), array([0.9741784 , 0.90252708, 0.93959732]), array([336,  61,  29]))\n"
          ]
        }
      ],
      "source": [
        "txt = \"precision_recall_fscore_support with {}:\"\n",
        "av=averages.append(None)\n",
        "for i in averages:\n",
        "  Score=precision_recall_fscore_support(y_test, y_predict,average=i,beta=0.5)\n",
        "  print(txt.format(i),Score)\n",
        "averages.pop()"
      ]
    },
    {
      "cell_type": "markdown",
      "metadata": {
        "id": "g48ZKnJiRFVy"
      },
      "source": [
        "###precision_score\n",
        "Recordamos la definición anterior. La precisión se puede ver como la capacidad del clasificador de no etiquetar como positiva una muestra que es negativa."
      ]
    },
    {
      "cell_type": "code",
      "execution_count": 132,
      "metadata": {
        "id": "r3H259SwRZuK",
        "colab": {
          "base_uri": "https://localhost:8080/"
        },
        "outputId": "8919ef91-5c75-4429-f77a-9350be4b4bc5"
      },
      "outputs": [
        {
          "output_type": "stream",
          "name": "stdout",
          "text": [
            "precision_score with micro: 0.9624413145539906\n",
            "precision_score with macro: 0.9433398310591293\n",
            "precision_score with weighted: 0.9617924571470408\n"
          ]
        }
      ],
      "source": [
        "txt = \"precision_score with {}:\"\n",
        "\n",
        "for i in averages:\n",
        "  Score=precision_score(y_test, y_predict,average=i)\n",
        "  print(txt.format(i),Score)"
      ]
    },
    {
      "cell_type": "markdown",
      "metadata": {
        "id": "lHLggN7tSIHG"
      },
      "source": [
        "###recall_score\n",
        "\n",
        "Recordamos la definición anterior. La sensibilidad se puede ver como la capacidad del clasificador para encontrar todas las muestras positivas."
      ]
    },
    {
      "cell_type": "code",
      "execution_count": 133,
      "metadata": {
        "id": "WspS--UQSImb",
        "colab": {
          "base_uri": "https://localhost:8080/"
        },
        "outputId": "d973f41c-83ce-4d71-ff89-c25a390fa47c"
      },
      "outputs": [
        {
          "output_type": "stream",
          "name": "stdout",
          "text": [
            "recall_score with micro: 0.9624413145539906\n",
            "recall_score with macro: 0.9244282035406965\n",
            "recall_score with weighted: 0.9624413145539906\n"
          ]
        }
      ],
      "source": [
        "txt = \"recall_score with {}:\"\n",
        "\n",
        "for i in averages:\n",
        "  Score=recall_score(y_test, y_predict,average=i)\n",
        "  print(txt.format(i),Score)"
      ]
    },
    {
      "cell_type": "markdown",
      "metadata": {
        "id": "f_uI8SjZZ3Gu"
      },
      "source": [
        "##Clasificación multi etiqueta\n",
        "\n",
        "Para estas métricas el dataset que vamos usar nos lo dá Scikit-Learn en el modulo de datasets. El método a usar es make_multilabel_classification, este nos permite crear un dataset multilabel con las especificaciones que necesitamos.\n"
      ]
    },
    {
      "cell_type": "code",
      "execution_count": 134,
      "metadata": {
        "id": "Hef9KFYod2Qf"
      },
      "outputs": [],
      "source": [
        "from sklearn.datasets import make_multilabel_classification\n",
        "from sklearn.multioutput import ClassifierChain\n",
        "from sklearn.ensemble import RandomForestClassifier\n",
        "\n",
        "X, y = make_multilabel_classification(n_samples=150, n_classes=3, random_state=0,n_features=11)\n",
        "X_train, X_test, y_train, y_test = train_test_split(X, y, random_state=10)\n",
        "\n",
        "Random_Forest = RandomForestClassifier()\n",
        "\n",
        "chain = ClassifierChain(Random_Forest, order='random', random_state=0)\n",
        "chain.fit(X_train, y_train)\n",
        "\n",
        "y_predict_proba=chain.predict_proba(X_test)# las probabilidades\n",
        "y_predict=chain.predict(X_test)"
      ]
    },
    {
      "cell_type": "code",
      "execution_count": 135,
      "metadata": {
        "colab": {
          "base_uri": "https://localhost:8080/"
        },
        "id": "XFpP6q4ShlvX",
        "outputId": "cb9db99d-d971-47b0-f8ee-b1947794d6ed"
      },
      "outputs": [
        {
          "output_type": "execute_result",
          "data": {
            "text/plain": [
              "array([[ 2., 10.,  6., ...,  3.,  1.,  3.],\n",
              "       [ 3.,  1.,  4., ...,  4.,  3.,  3.],\n",
              "       [ 9.,  6.,  6., ...,  1.,  4.,  4.],\n",
              "       ...,\n",
              "       [ 2., 10.,  6., ...,  5.,  3.,  0.],\n",
              "       [ 5.,  3.,  7., ...,  2.,  3.,  4.],\n",
              "       [ 3.,  7.,  5., ...,  4.,  3.,  2.]])"
            ]
          },
          "metadata": {},
          "execution_count": 135
        }
      ],
      "source": [
        "X"
      ]
    },
    {
      "cell_type": "code",
      "execution_count": 136,
      "metadata": {
        "colab": {
          "base_uri": "https://localhost:8080/"
        },
        "id": "YRtoDjNThq_7",
        "outputId": "d4607a33-38c1-4022-9352-2c0a166637b1"
      },
      "outputs": [
        {
          "output_type": "execute_result",
          "data": {
            "text/plain": [
              "array([[1, 1, 0],\n",
              "       [1, 0, 1],\n",
              "       [1, 1, 1],\n",
              "       [0, 1, 1]])"
            ]
          },
          "metadata": {},
          "execution_count": 136
        }
      ],
      "source": [
        "y[0:4]"
      ]
    },
    {
      "cell_type": "code",
      "execution_count": 137,
      "metadata": {
        "id": "WheYN2d1U7kg"
      },
      "outputs": [],
      "source": [
        "#Se importan las métricas de multilabel ranking\n",
        "from sklearn.metrics import coverage_error\n",
        "from sklearn.metrics import label_ranking_average_precision_score\n",
        "from sklearn.metrics import label_ranking_loss\n",
        "from sklearn.metrics import dcg_score\n",
        "from sklearn.metrics import ndcg_score"
      ]
    },
    {
      "cell_type": "markdown",
      "metadata": {
        "id": "0pXTo0GSgFDd"
      },
      "source": [
        "###Coverage error\n",
        "\n",
        "Calcula el número promedio de etiquetas que deben ser incluidas en la predición final para que todas las etiquetas verdaderas sean predichas. Indica cuántas etiquetas de alto puntaje se deben predecir en promedio para no dejar ninguna verdadera por fuera.\n",
        "\n",
        "Su mejor valor es entonces el promedio de etiquetas verdaderas.\n",
        "\n",
        "$coverage(y, \\hat{f}) = \\frac{1}{n_{\\text{samples}}}\n",
        "  \\sum_{i=0}^{n_{\\text{samples}} - 1} \\max_{j:y_{ij} = 1} \\text{rank}_{ij}$\n",
        "\n"
      ]
    },
    {
      "cell_type": "code",
      "execution_count": 138,
      "metadata": {
        "colab": {
          "base_uri": "https://localhost:8080/"
        },
        "id": "uXl2Zu-XgHa3",
        "outputId": "1824ef54-ec75-4e44-b1bd-cea52466ce41"
      },
      "outputs": [
        {
          "output_type": "stream",
          "name": "stdout",
          "text": [
            "coverage_error:  1.9473684210526316\n"
          ]
        }
      ],
      "source": [
        "Score=coverage_error(y_test, y_predict)\n",
        "print('coverage_error: ', Score)"
      ]
    },
    {
      "cell_type": "markdown",
      "metadata": {
        "id": "dkUxTWAqgHgb"
      },
      "source": [
        "###Label ranking average precision score\n",
        "\n",
        "La LRAP indica qué proporción de las etiquetas de alto puntaje son verdaderas para cada etiqueta observada (verdadera).\n",
        "\n",
        "El mejor valor es 1; siempre es mayor a 0.\n",
        "\n",
        "$LRAP(y, \\hat{f}) = \\frac{1}{n_{\\text{samples}}}\n",
        "  \\sum_{i=0}^{n_{\\text{samples}} - 1} \\frac{1}{||y_i||_0}\n",
        "  \\sum_{j:y_{ij} = 1} \\frac{|\\mathcal{L}_{ij}|}{\\text{rank}_{ij}}$\n",
        "\n"
      ]
    },
    {
      "cell_type": "code",
      "execution_count": 139,
      "metadata": {
        "colab": {
          "base_uri": "https://localhost:8080/"
        },
        "id": "tgBWRO4ZgfbY",
        "outputId": "86901d55-d61a-4e93-c2ae-b3a9119fb942"
      },
      "outputs": [
        {
          "output_type": "stream",
          "name": "stdout",
          "text": [
            "label_ranking_average_precision_score:  0.8925438596491228\n"
          ]
        }
      ],
      "source": [
        "Score=label_ranking_average_precision_score(y_test, y_predict)\n",
        "print('label_ranking_average_precision_score: ', Score)"
      ]
    },
    {
      "cell_type": "markdown",
      "metadata": {
        "id": "Ny88x_zMgfhY"
      },
      "source": [
        "###Ranking loss\n",
        "\n",
        "Calcula la pérdida de ranking, la cual promedia sobre las muestras el número de pares de etiquetas que son ordenadas incorrectamente, dándole peso (inversamente) al número de pares ordenados de etiquetas falsas y verdaderas.\n",
        "\n",
        "El mejor valor para esta métrica es 0.\n",
        "\n",
        "$ranking\\_loss(y, \\hat{f}) =  \\frac{1}{n_{\\text{samples}}}\n",
        "  \\sum_{i=0}^{n_{\\text{samples}} - 1} \\frac{1}{||y_i||_0(n_\\text{labels} - ||y_i||_0)}\n",
        "  \\left|\\left\\{(k, l): \\hat{f}_{ik} \\leq \\hat{f}_{il}, y_{ik} = 1, y_{il} = 0 \\right\\}\\right|$"
      ]
    },
    {
      "cell_type": "code",
      "execution_count": 140,
      "metadata": {
        "colab": {
          "base_uri": "https://localhost:8080/"
        },
        "id": "wquX4vMDhHV0",
        "outputId": "b50e5c28-6d24-40fd-85ec-f938eebf27d2"
      },
      "outputs": [
        {
          "output_type": "stream",
          "name": "stdout",
          "text": [
            "label_ranking_loss:  0.23684210526315788\n"
          ]
        }
      ],
      "source": [
        "Score=label_ranking_loss(y_test, y_predict)\n",
        "print('label_ranking_loss: ', Score)"
      ]
    },
    {
      "cell_type": "markdown",
      "metadata": {
        "id": "FYFnWoZahHbl"
      },
      "source": [
        "###Discounted Cumulative Gain (DCG)\n",
        "\n",
        "Esta métrica es una medida de la calidad del ranking. Compara el un orden predicho con puntajes observados (verdaderos) como referencia. Puede medir, por ejemplo, la relevancia de respuestas ante una búsqueda (en motores de búsqueda).\n",
        "\n",
        "DCG ordena los targets verdaderos en el orden predicho y puede truncarse después de un número determinado de resultados ($K$).\n",
        "\n",
        "Su valor usualmente oscila entre 0 y 1.\n",
        "\n",
        "$\\sum_{r=1}^{\\min(K, M)}\\frac{y_{f(r)}}{\\log(1 + r)}$"
      ]
    },
    {
      "cell_type": "code",
      "execution_count": 141,
      "metadata": {
        "colab": {
          "base_uri": "https://localhost:8080/"
        },
        "id": "RAgBcffVhKAn",
        "outputId": "7a8c094d-61e1-4b97-acc5-5367cc14c4bb"
      },
      "outputs": [
        {
          "output_type": "stream",
          "name": "stdout",
          "text": [
            "dcg_score:  1.2735360491071588\n"
          ]
        }
      ],
      "source": [
        "Score=dcg_score(y_test, y_predict)\n",
        "print('dcg_score: ', Score)"
      ]
    },
    {
      "cell_type": "markdown",
      "metadata": {
        "id": "kW-OZd_3hKFr"
      },
      "source": [
        "### Discounted Cumulative Gain (NDCG)\n",
        "\n",
        "Esta otra métrica que mide la calidad del ranking y está muy relacionada a DCG.\n",
        "Al compararla con Ranking loss, NDCG puede usarse cuando se cuenta, además del orden, con puntajes de relevancia.\n",
        "\n",
        "Esta métrica (NDCG) suele ser preferida sobre DCG.\n",
        "\n",
        "NDCG se calcula dividiendo el valor de DCG score entre el DCG score obtenido para $y$."
      ]
    },
    {
      "cell_type": "code",
      "execution_count": 142,
      "metadata": {
        "colab": {
          "base_uri": "https://localhost:8080/"
        },
        "id": "fAWEE9UThK7d",
        "outputId": "ee3eb3e8-d6b5-42b5-9d38-d144210de216"
      },
      "outputs": [
        {
          "output_type": "stream",
          "name": "stdout",
          "text": [
            "ndcg_score:  0.8286261771509991\n"
          ]
        }
      ],
      "source": [
        "Score=ndcg_score(y_test, y_predict)\n",
        "print('ndcg_score: ', Score)"
      ]
    }
  ],
  "metadata": {
    "colab": {
      "collapsed_sections": [
        "2D05dkcHJL2D",
        "ufSyoZkUWmhk",
        "Jc8tlpK9ezve",
        "FsVPn8b4id2z"
      ],
      "name": "Tarea 3.ipynb",
      "provenance": [],
      "toc_visible": true
    },
    "kernelspec": {
      "display_name": "Python 3",
      "name": "python3"
    },
    "language_info": {
      "name": "python"
    }
  },
  "nbformat": 4,
  "nbformat_minor": 0
}